{
 "cells": [
  {
   "cell_type": "code",
   "execution_count": 2,
   "id": "499b8c70",
   "metadata": {},
   "outputs": [],
   "source": [
    "import spotipy\n",
    "import pandas as pd\n",
    "import json\n",
    "from spotipy.oauth2 import SpotifyClientCredentials\n",
    "from config import *"
   ]
  },
  {
   "cell_type": "code",
   "execution_count": 3,
   "id": "f3782e8f",
   "metadata": {},
   "outputs": [],
   "source": [
    "#Initialize SpotiPy with user credentias # \n",
    "sp = spotipy.Spotify(auth_manager=SpotifyClientCredentials(client_id= client_id,\n",
    "                                                           client_secret= client_secret))"
   ]
  },
  {
   "cell_type": "code",
   "execution_count": 4,
   "id": "0ae2974e-d7a0-43f1-be39-6f936f7221f7",
   "metadata": {},
   "outputs": [],
   "source": [
    "top_100_df=pd.read_csv('/Users/aloaskari/Desktop/Ironhack/Bootcamp/Week_6/Day_1/top_100.csv')\n",
    "not_hot_df=pd.read_csv('/Users/aloaskari/Desktop/Ironhack/Bootcamp/Week_6/Day_1/not_hot_songs.csv')"
   ]
  },
  {
   "cell_type": "code",
   "execution_count": 5,
   "id": "8153708d",
   "metadata": {},
   "outputs": [],
   "source": [
    "not_100 = pd.read_csv('/Users/aloaskari/Desktop/Ironhack/Bootcamp/Week_6/Day_1/not_hot_songs.csv')"
   ]
  },
  {
   "cell_type": "code",
   "execution_count": 6,
   "id": "17e0ef8e",
   "metadata": {},
   "outputs": [
    {
     "data": {
      "text/html": [
       "<div>\n",
       "<style scoped>\n",
       "    .dataframe tbody tr th:only-of-type {\n",
       "        vertical-align: middle;\n",
       "    }\n",
       "\n",
       "    .dataframe tbody tr th {\n",
       "        vertical-align: top;\n",
       "    }\n",
       "\n",
       "    .dataframe thead th {\n",
       "        text-align: right;\n",
       "    }\n",
       "</style>\n",
       "<table border=\"1\" class=\"dataframe\">\n",
       "  <thead>\n",
       "    <tr style=\"text-align: right;\">\n",
       "      <th></th>\n",
       "      <th>song_title</th>\n",
       "      <th>artist</th>\n",
       "    </tr>\n",
       "  </thead>\n",
       "  <tbody>\n",
       "    <tr>\n",
       "      <th>0</th>\n",
       "      <td>Mask Off</td>\n",
       "      <td>Future</td>\n",
       "    </tr>\n",
       "    <tr>\n",
       "      <th>1</th>\n",
       "      <td>Redbone</td>\n",
       "      <td>Childish Gambino</td>\n",
       "    </tr>\n",
       "    <tr>\n",
       "      <th>2</th>\n",
       "      <td>Xanny Family</td>\n",
       "      <td>Future</td>\n",
       "    </tr>\n",
       "    <tr>\n",
       "      <th>3</th>\n",
       "      <td>Master Of None</td>\n",
       "      <td>Beach House</td>\n",
       "    </tr>\n",
       "    <tr>\n",
       "      <th>4</th>\n",
       "      <td>Parallel Lines</td>\n",
       "      <td>Junior Boys</td>\n",
       "    </tr>\n",
       "  </tbody>\n",
       "</table>\n",
       "</div>"
      ],
      "text/plain": [
       "       song_title            artist\n",
       "0        Mask Off            Future\n",
       "1         Redbone  Childish Gambino\n",
       "2    Xanny Family            Future\n",
       "3  Master Of None       Beach House\n",
       "4  Parallel Lines       Junior Boys"
      ]
     },
     "execution_count": 6,
     "metadata": {},
     "output_type": "execute_result"
    }
   ],
   "source": [
    "not_100.head()"
   ]
  },
  {
   "cell_type": "code",
   "execution_count": 7,
   "id": "8d047145",
   "metadata": {},
   "outputs": [
    {
     "data": {
      "text/html": [
       "<div>\n",
       "<style scoped>\n",
       "    .dataframe tbody tr th:only-of-type {\n",
       "        vertical-align: middle;\n",
       "    }\n",
       "\n",
       "    .dataframe tbody tr th {\n",
       "        vertical-align: top;\n",
       "    }\n",
       "\n",
       "    .dataframe thead th {\n",
       "        text-align: right;\n",
       "    }\n",
       "</style>\n",
       "<table border=\"1\" class=\"dataframe\">\n",
       "  <thead>\n",
       "    <tr style=\"text-align: right;\">\n",
       "      <th></th>\n",
       "      <th>title</th>\n",
       "      <th>artist</th>\n",
       "    </tr>\n",
       "  </thead>\n",
       "  <tbody>\n",
       "    <tr>\n",
       "      <th>0</th>\n",
       "      <td>Flowers</td>\n",
       "      <td>Miley Cyrus</td>\n",
       "    </tr>\n",
       "    <tr>\n",
       "      <th>1</th>\n",
       "      <td>Kill Bill</td>\n",
       "      <td>SZA</td>\n",
       "    </tr>\n",
       "    <tr>\n",
       "      <th>2</th>\n",
       "      <td>Last Night</td>\n",
       "      <td>Morgan Wallen</td>\n",
       "    </tr>\n",
       "    <tr>\n",
       "      <th>3</th>\n",
       "      <td>Unholy</td>\n",
       "      <td>Sam Smith &amp; Kim Petras</td>\n",
       "    </tr>\n",
       "    <tr>\n",
       "      <th>4</th>\n",
       "      <td>Creepin'</td>\n",
       "      <td>Metro Boomin, The Weeknd &amp; 21 Savage</td>\n",
       "    </tr>\n",
       "  </tbody>\n",
       "</table>\n",
       "</div>"
      ],
      "text/plain": [
       "        title                                artist\n",
       "0     Flowers                           Miley Cyrus\n",
       "1   Kill Bill                                   SZA\n",
       "2  Last Night                         Morgan Wallen\n",
       "3      Unholy                Sam Smith & Kim Petras\n",
       "4    Creepin'  Metro Boomin, The Weeknd & 21 Savage"
      ]
     },
     "execution_count": 7,
     "metadata": {},
     "output_type": "execute_result"
    }
   ],
   "source": [
    "hot_100= pd.read_csv('/Users/aloaskari/Desktop/Ironhack/Bootcamp/Week_6/Day_1/top_100.csv')\n",
    "hot_100.head()"
   ]
  },
  {
   "cell_type": "code",
   "execution_count": 12,
   "id": "37c5ab29-afa6-46a7-996d-0736039b260e",
   "metadata": {},
   "outputs": [
    {
     "data": {
      "text/plain": [
       "Index(['song_title', 'artist'], dtype='object')"
      ]
     },
     "execution_count": 12,
     "metadata": {},
     "output_type": "execute_result"
    }
   ],
   "source": [
    "not_100.columns"
   ]
  },
  {
   "cell_type": "code",
   "execution_count": 18,
   "id": "7afcb3c0-2173-49cb-9c1e-20d6090f2123",
   "metadata": {},
   "outputs": [],
   "source": [
    "not_100 = not_100.rename(columns={'song_title':'title'})"
   ]
  },
  {
   "cell_type": "code",
   "execution_count": 19,
   "id": "7af6918c",
   "metadata": {},
   "outputs": [
    {
     "data": {
      "text/html": [
       "<div>\n",
       "<style scoped>\n",
       "    .dataframe tbody tr th:only-of-type {\n",
       "        vertical-align: middle;\n",
       "    }\n",
       "\n",
       "    .dataframe tbody tr th {\n",
       "        vertical-align: top;\n",
       "    }\n",
       "\n",
       "    .dataframe thead th {\n",
       "        text-align: right;\n",
       "    }\n",
       "</style>\n",
       "<table border=\"1\" class=\"dataframe\">\n",
       "  <thead>\n",
       "    <tr style=\"text-align: right;\">\n",
       "      <th></th>\n",
       "      <th>title</th>\n",
       "      <th>artist</th>\n",
       "    </tr>\n",
       "  </thead>\n",
       "  <tbody>\n",
       "    <tr>\n",
       "      <th>0</th>\n",
       "      <td>mask off</td>\n",
       "      <td>future</td>\n",
       "    </tr>\n",
       "    <tr>\n",
       "      <th>1</th>\n",
       "      <td>redbone</td>\n",
       "      <td>childish gambino</td>\n",
       "    </tr>\n",
       "    <tr>\n",
       "      <th>2</th>\n",
       "      <td>xanny family</td>\n",
       "      <td>future</td>\n",
       "    </tr>\n",
       "    <tr>\n",
       "      <th>3</th>\n",
       "      <td>master of none</td>\n",
       "      <td>beach house</td>\n",
       "    </tr>\n",
       "    <tr>\n",
       "      <th>4</th>\n",
       "      <td>parallel lines</td>\n",
       "      <td>junior boys</td>\n",
       "    </tr>\n",
       "  </tbody>\n",
       "</table>\n",
       "</div>"
      ],
      "text/plain": [
       "            title            artist\n",
       "0        mask off            future\n",
       "1         redbone  childish gambino\n",
       "2    xanny family            future\n",
       "3  master of none       beach house\n",
       "4  parallel lines       junior boys"
      ]
     },
     "execution_count": 19,
     "metadata": {},
     "output_type": "execute_result"
    }
   ],
   "source": [
    "not_100['title'] = not_100['title'].apply(lambda x: x.lower() if type(x) == str else x)\n",
    "not_100['artist'] = not_100['artist'].apply(lambda x: x.lower() if type(x) == str else x)\n",
    "not_100.head()"
   ]
  },
  {
   "cell_type": "code",
   "execution_count": 20,
   "id": "0b89a84d-37d1-48dd-b3f9-8dfeab169b68",
   "metadata": {},
   "outputs": [
    {
     "data": {
      "text/plain": [
       "Index(['title', 'artist'], dtype='object')"
      ]
     },
     "execution_count": 20,
     "metadata": {},
     "output_type": "execute_result"
    }
   ],
   "source": [
    "hot_100.columns "
   ]
  },
  {
   "cell_type": "code",
   "execution_count": 21,
   "id": "083fd2c8",
   "metadata": {},
   "outputs": [
    {
     "data": {
      "text/html": [
       "<div>\n",
       "<style scoped>\n",
       "    .dataframe tbody tr th:only-of-type {\n",
       "        vertical-align: middle;\n",
       "    }\n",
       "\n",
       "    .dataframe tbody tr th {\n",
       "        vertical-align: top;\n",
       "    }\n",
       "\n",
       "    .dataframe thead th {\n",
       "        text-align: right;\n",
       "    }\n",
       "</style>\n",
       "<table border=\"1\" class=\"dataframe\">\n",
       "  <thead>\n",
       "    <tr style=\"text-align: right;\">\n",
       "      <th></th>\n",
       "      <th>title</th>\n",
       "      <th>artist</th>\n",
       "    </tr>\n",
       "  </thead>\n",
       "  <tbody>\n",
       "    <tr>\n",
       "      <th>0</th>\n",
       "      <td>flowers</td>\n",
       "      <td>miley cyrus</td>\n",
       "    </tr>\n",
       "    <tr>\n",
       "      <th>1</th>\n",
       "      <td>kill bill</td>\n",
       "      <td>sza</td>\n",
       "    </tr>\n",
       "    <tr>\n",
       "      <th>2</th>\n",
       "      <td>last night</td>\n",
       "      <td>morgan wallen</td>\n",
       "    </tr>\n",
       "    <tr>\n",
       "      <th>3</th>\n",
       "      <td>unholy</td>\n",
       "      <td>sam smith &amp; kim petras</td>\n",
       "    </tr>\n",
       "    <tr>\n",
       "      <th>4</th>\n",
       "      <td>creepin'</td>\n",
       "      <td>metro boomin, the weeknd &amp; 21 savage</td>\n",
       "    </tr>\n",
       "  </tbody>\n",
       "</table>\n",
       "</div>"
      ],
      "text/plain": [
       "        title                                artist\n",
       "0     flowers                           miley cyrus\n",
       "1   kill bill                                   sza\n",
       "2  last night                         morgan wallen\n",
       "3      unholy                sam smith & kim petras\n",
       "4    creepin'  metro boomin, the weeknd & 21 savage"
      ]
     },
     "execution_count": 21,
     "metadata": {},
     "output_type": "execute_result"
    }
   ],
   "source": [
    "hot_100['title'] = hot_100['title'].apply(lambda x: x.lower() if type(x) == str else x)\n",
    "hot_100['artist'] = hot_100['artist'].apply(lambda x: x.lower() if type(x) == str else x)\n",
    "hot_100.head()"
   ]
  },
  {
   "cell_type": "code",
   "execution_count": 22,
   "id": "509140f1",
   "metadata": {},
   "outputs": [],
   "source": [
    "def search_song(title, artist, limit=1):\n",
    "    try:\n",
    "        result = sp.search(q=title + artist, limit=limit)\n",
    "        return result[\"tracks\"][\"items\"][0][\"uri\"]\n",
    "    except:\n",
    "        print('none')"
   ]
  },
  {
   "cell_type": "code",
   "execution_count": 23,
   "id": "69866e57",
   "metadata": {},
   "outputs": [
    {
     "data": {
      "text/plain": [
       "'spotify:track:0VgkVdmE4gld66l8iyGjgx'"
      ]
     },
     "execution_count": 23,
     "metadata": {},
     "output_type": "execute_result"
    }
   ],
   "source": [
    "search_song('mask off', 'future', limit=1)"
   ]
  },
  {
   "cell_type": "code",
   "execution_count": 24,
   "id": "135ae68f",
   "metadata": {},
   "outputs": [],
   "source": [
    "title_top_100 = hot_100['title'].to_list()\n",
    "artist_top_100 = hot_100['artist'].to_list()"
   ]
  },
  {
   "cell_type": "code",
   "execution_count": 25,
   "id": "2aa0eaa0",
   "metadata": {},
   "outputs": [],
   "source": [
    "uris = []\n",
    "for i in range(len(title_top_100)):\n",
    "    uris.append(search_song(title_top_100[i], artist_top_100[i], limit=1))"
   ]
  },
  {
   "cell_type": "code",
   "execution_count": 26,
   "id": "394a7cf2",
   "metadata": {},
   "outputs": [
    {
     "data": {
      "text/html": [
       "<div>\n",
       "<style scoped>\n",
       "    .dataframe tbody tr th:only-of-type {\n",
       "        vertical-align: middle;\n",
       "    }\n",
       "\n",
       "    .dataframe tbody tr th {\n",
       "        vertical-align: top;\n",
       "    }\n",
       "\n",
       "    .dataframe thead th {\n",
       "        text-align: right;\n",
       "    }\n",
       "</style>\n",
       "<table border=\"1\" class=\"dataframe\">\n",
       "  <thead>\n",
       "    <tr style=\"text-align: right;\">\n",
       "      <th></th>\n",
       "      <th>title</th>\n",
       "      <th>artist</th>\n",
       "      <th>uri</th>\n",
       "    </tr>\n",
       "  </thead>\n",
       "  <tbody>\n",
       "    <tr>\n",
       "      <th>0</th>\n",
       "      <td>flowers</td>\n",
       "      <td>miley cyrus</td>\n",
       "      <td>spotify:track:0yLdNVWF3Srea0uzk55zFn</td>\n",
       "    </tr>\n",
       "    <tr>\n",
       "      <th>1</th>\n",
       "      <td>kill bill</td>\n",
       "      <td>sza</td>\n",
       "      <td>spotify:track:5ReIs3aH4wfBjp93QOtWAl</td>\n",
       "    </tr>\n",
       "    <tr>\n",
       "      <th>2</th>\n",
       "      <td>last night</td>\n",
       "      <td>morgan wallen</td>\n",
       "      <td>spotify:track:59uQI0PADDKeE6UZDTJEe8</td>\n",
       "    </tr>\n",
       "    <tr>\n",
       "      <th>3</th>\n",
       "      <td>unholy</td>\n",
       "      <td>sam smith &amp; kim petras</td>\n",
       "      <td>spotify:track:3nqQXoyQOWXiESFLlDF1hG</td>\n",
       "    </tr>\n",
       "    <tr>\n",
       "      <th>4</th>\n",
       "      <td>creepin'</td>\n",
       "      <td>metro boomin, the weeknd &amp; 21 savage</td>\n",
       "      <td>spotify:track:4CpujwKsq4DxOIMiKr12m8</td>\n",
       "    </tr>\n",
       "    <tr>\n",
       "      <th>...</th>\n",
       "      <td>...</td>\n",
       "      <td>...</td>\n",
       "      <td>...</td>\n",
       "    </tr>\n",
       "    <tr>\n",
       "      <th>95</th>\n",
       "      <td>yandel 150</td>\n",
       "      <td>yandel &amp; feid</td>\n",
       "      <td>spotify:track:2oiixB9QMIzhWaHGVlQx4g</td>\n",
       "    </tr>\n",
       "    <tr>\n",
       "      <th>96</th>\n",
       "      <td>heart to heart</td>\n",
       "      <td>mac demarco</td>\n",
       "      <td>spotify:track:7EAMXbLcL0qXmciM5SwMh2</td>\n",
       "    </tr>\n",
       "    <tr>\n",
       "      <th>97</th>\n",
       "      <td>next thing you know</td>\n",
       "      <td>jordan davis</td>\n",
       "      <td>spotify:track:2lNTHWu2I5Tcz9ukWsV5Jj</td>\n",
       "    </tr>\n",
       "    <tr>\n",
       "      <th>98</th>\n",
       "      <td>never gonna not dance again</td>\n",
       "      <td>p!nk</td>\n",
       "      <td>spotify:track:6sZo5nJIsFWXefRCCexpx0</td>\n",
       "    </tr>\n",
       "    <tr>\n",
       "      <th>99</th>\n",
       "      <td>open arms</td>\n",
       "      <td>sza featuring travis scott</td>\n",
       "      <td>spotify:track:0xaFw2zDYf1rIJWl2dXiSF</td>\n",
       "    </tr>\n",
       "  </tbody>\n",
       "</table>\n",
       "<p>100 rows × 3 columns</p>\n",
       "</div>"
      ],
      "text/plain": [
       "                          title                                artist  \\\n",
       "0                       flowers                           miley cyrus   \n",
       "1                     kill bill                                   sza   \n",
       "2                    last night                         morgan wallen   \n",
       "3                        unholy                sam smith & kim petras   \n",
       "4                      creepin'  metro boomin, the weeknd & 21 savage   \n",
       "..                          ...                                   ...   \n",
       "95                   yandel 150                         yandel & feid   \n",
       "96               heart to heart                           mac demarco   \n",
       "97          next thing you know                          jordan davis   \n",
       "98  never gonna not dance again                                  p!nk   \n",
       "99                    open arms            sza featuring travis scott   \n",
       "\n",
       "                                     uri  \n",
       "0   spotify:track:0yLdNVWF3Srea0uzk55zFn  \n",
       "1   spotify:track:5ReIs3aH4wfBjp93QOtWAl  \n",
       "2   spotify:track:59uQI0PADDKeE6UZDTJEe8  \n",
       "3   spotify:track:3nqQXoyQOWXiESFLlDF1hG  \n",
       "4   spotify:track:4CpujwKsq4DxOIMiKr12m8  \n",
       "..                                   ...  \n",
       "95  spotify:track:2oiixB9QMIzhWaHGVlQx4g  \n",
       "96  spotify:track:7EAMXbLcL0qXmciM5SwMh2  \n",
       "97  spotify:track:2lNTHWu2I5Tcz9ukWsV5Jj  \n",
       "98  spotify:track:6sZo5nJIsFWXefRCCexpx0  \n",
       "99  spotify:track:0xaFw2zDYf1rIJWl2dXiSF  \n",
       "\n",
       "[100 rows x 3 columns]"
      ]
     },
     "execution_count": 26,
     "metadata": {},
     "output_type": "execute_result"
    }
   ],
   "source": [
    "hot_100['uri'] = uris\n",
    "hot_100"
   ]
  }
 ],
 "metadata": {
  "kernelspec": {
   "display_name": "Python 3 (ipykernel)",
   "language": "python",
   "name": "python3"
  },
  "language_info": {
   "codemirror_mode": {
    "name": "ipython",
    "version": 3
   },
   "file_extension": ".py",
   "mimetype": "text/x-python",
   "name": "python",
   "nbconvert_exporter": "python",
   "pygments_lexer": "ipython3",
   "version": "3.9.15"
  }
 },
 "nbformat": 4,
 "nbformat_minor": 5
}
