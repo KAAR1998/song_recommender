{
 "cells": [
  {
   "cell_type": "code",
   "execution_count": 1,
   "id": "0f1c965a",
   "metadata": {},
   "outputs": [],
   "source": [
    "import spotipy\n",
    "import pandas as pd\n",
    "import json\n",
    "from spotipy.oauth2 import SpotifyClientCredentials\n",
    "from config import *\n",
    "from sklearn.cluster import KMeans\n",
    "from sklearn.metrics import silhouette_score\n",
    "from sklearn.preprocessing import StandardScaler\n",
    "#from scalers import *\n",
    "import pickle\n",
    "import random"
   ]
  },
  {
   "cell_type": "code",
   "execution_count": 2,
   "id": "70607af7",
   "metadata": {},
   "outputs": [],
   "source": [
    "sp = spotipy.Spotify(auth_manager=SpotifyClientCredentials(client_id= Client_ID,\n",
    "                                                           client_secret= Client_Secret))"
   ]
  },
  {
   "cell_type": "code",
   "execution_count": 3,
   "id": "1600e537",
   "metadata": {},
   "outputs": [],
   "source": [
    "song_clusters_df = pd.read_csv(\"../Data/songs_with_clusters.csv\")"
   ]
  },
  {
   "cell_type": "code",
   "execution_count": 4,
   "id": "89c390b8",
   "metadata": {},
   "outputs": [
    {
     "data": {
      "text/html": [
       "<div>\n",
       "<style scoped>\n",
       "    .dataframe tbody tr th:only-of-type {\n",
       "        vertical-align: middle;\n",
       "    }\n",
       "\n",
       "    .dataframe tbody tr th {\n",
       "        vertical-align: top;\n",
       "    }\n",
       "\n",
       "    .dataframe thead th {\n",
       "        text-align: right;\n",
       "    }\n",
       "</style>\n",
       "<table border=\"1\" class=\"dataframe\">\n",
       "  <thead>\n",
       "    <tr style=\"text-align: right;\">\n",
       "      <th></th>\n",
       "      <th>danceability</th>\n",
       "      <th>energy</th>\n",
       "      <th>key</th>\n",
       "      <th>loudness</th>\n",
       "      <th>mode</th>\n",
       "      <th>speechiness</th>\n",
       "      <th>acousticness</th>\n",
       "      <th>instrumentalness</th>\n",
       "      <th>liveness</th>\n",
       "      <th>valence</th>\n",
       "      <th>...</th>\n",
       "      <th>id</th>\n",
       "      <th>uri</th>\n",
       "      <th>track_href</th>\n",
       "      <th>analysis_url</th>\n",
       "      <th>duration_ms</th>\n",
       "      <th>time_signature</th>\n",
       "      <th>title</th>\n",
       "      <th>artist</th>\n",
       "      <th>hot_100</th>\n",
       "      <th>cluster</th>\n",
       "    </tr>\n",
       "  </thead>\n",
       "  <tbody>\n",
       "    <tr>\n",
       "      <th>0</th>\n",
       "      <td>0.707</td>\n",
       "      <td>0.681</td>\n",
       "      <td>0</td>\n",
       "      <td>-4.325</td>\n",
       "      <td>1</td>\n",
       "      <td>0.0668</td>\n",
       "      <td>0.06320</td>\n",
       "      <td>0.000005</td>\n",
       "      <td>0.0322</td>\n",
       "      <td>0.646</td>\n",
       "      <td>...</td>\n",
       "      <td>0yLdNVWF3Srea0uzk55zFn</td>\n",
       "      <td>spotify:track:0yLdNVWF3Srea0uzk55zFn</td>\n",
       "      <td>https://api.spotify.com/v1/tracks/0yLdNVWF3Sre...</td>\n",
       "      <td>https://api.spotify.com/v1/audio-analysis/0yLd...</td>\n",
       "      <td>200455</td>\n",
       "      <td>4</td>\n",
       "      <td>flowers</td>\n",
       "      <td>miley cyrus</td>\n",
       "      <td>1</td>\n",
       "      <td>2</td>\n",
       "    </tr>\n",
       "    <tr>\n",
       "      <th>1</th>\n",
       "      <td>0.347</td>\n",
       "      <td>0.378</td>\n",
       "      <td>8</td>\n",
       "      <td>-9.960</td>\n",
       "      <td>1</td>\n",
       "      <td>0.0354</td>\n",
       "      <td>0.85700</td>\n",
       "      <td>0.000000</td>\n",
       "      <td>0.1180</td>\n",
       "      <td>0.610</td>\n",
       "      <td>...</td>\n",
       "      <td>5ReIs3aH4wfBjp93QOtWAl</td>\n",
       "      <td>spotify:track:5ReIs3aH4wfBjp93QOtWAl</td>\n",
       "      <td>https://api.spotify.com/v1/tracks/5ReIs3aH4wfB...</td>\n",
       "      <td>https://api.spotify.com/v1/audio-analysis/5ReI...</td>\n",
       "      <td>168609</td>\n",
       "      <td>4</td>\n",
       "      <td>kill bill</td>\n",
       "      <td>sza</td>\n",
       "      <td>1</td>\n",
       "      <td>1</td>\n",
       "    </tr>\n",
       "    <tr>\n",
       "      <th>2</th>\n",
       "      <td>0.517</td>\n",
       "      <td>0.675</td>\n",
       "      <td>6</td>\n",
       "      <td>-5.382</td>\n",
       "      <td>1</td>\n",
       "      <td>0.0357</td>\n",
       "      <td>0.45900</td>\n",
       "      <td>0.000000</td>\n",
       "      <td>0.1510</td>\n",
       "      <td>0.518</td>\n",
       "      <td>...</td>\n",
       "      <td>59uQI0PADDKeE6UZDTJEe8</td>\n",
       "      <td>spotify:track:59uQI0PADDKeE6UZDTJEe8</td>\n",
       "      <td>https://api.spotify.com/v1/tracks/59uQI0PADDKe...</td>\n",
       "      <td>https://api.spotify.com/v1/audio-analysis/59uQ...</td>\n",
       "      <td>163855</td>\n",
       "      <td>4</td>\n",
       "      <td>last night</td>\n",
       "      <td>morgan wallen</td>\n",
       "      <td>1</td>\n",
       "      <td>0</td>\n",
       "    </tr>\n",
       "    <tr>\n",
       "      <th>3</th>\n",
       "      <td>0.714</td>\n",
       "      <td>0.472</td>\n",
       "      <td>2</td>\n",
       "      <td>-7.375</td>\n",
       "      <td>1</td>\n",
       "      <td>0.0864</td>\n",
       "      <td>0.01300</td>\n",
       "      <td>0.000005</td>\n",
       "      <td>0.2660</td>\n",
       "      <td>0.238</td>\n",
       "      <td>...</td>\n",
       "      <td>3nqQXoyQOWXiESFLlDF1hG</td>\n",
       "      <td>spotify:track:3nqQXoyQOWXiESFLlDF1hG</td>\n",
       "      <td>https://api.spotify.com/v1/tracks/3nqQXoyQOWXi...</td>\n",
       "      <td>https://api.spotify.com/v1/audio-analysis/3nqQ...</td>\n",
       "      <td>156943</td>\n",
       "      <td>4</td>\n",
       "      <td>unholy</td>\n",
       "      <td>sam smith &amp; kim petras</td>\n",
       "      <td>1</td>\n",
       "      <td>7</td>\n",
       "    </tr>\n",
       "    <tr>\n",
       "      <th>4</th>\n",
       "      <td>0.728</td>\n",
       "      <td>0.293</td>\n",
       "      <td>1</td>\n",
       "      <td>-13.657</td>\n",
       "      <td>0</td>\n",
       "      <td>0.0562</td>\n",
       "      <td>0.47900</td>\n",
       "      <td>0.904000</td>\n",
       "      <td>0.1180</td>\n",
       "      <td>0.152</td>\n",
       "      <td>...</td>\n",
       "      <td>4CpujwKsq4DxOIMiKr12m8</td>\n",
       "      <td>spotify:track:4CpujwKsq4DxOIMiKr12m8</td>\n",
       "      <td>https://api.spotify.com/v1/tracks/4CpujwKsq4Dx...</td>\n",
       "      <td>https://api.spotify.com/v1/audio-analysis/4Cpu...</td>\n",
       "      <td>217026</td>\n",
       "      <td>4</td>\n",
       "      <td>creepin'</td>\n",
       "      <td>metro boomin, the weeknd &amp; 21 savage</td>\n",
       "      <td>1</td>\n",
       "      <td>3</td>\n",
       "    </tr>\n",
       "    <tr>\n",
       "      <th>...</th>\n",
       "      <td>...</td>\n",
       "      <td>...</td>\n",
       "      <td>...</td>\n",
       "      <td>...</td>\n",
       "      <td>...</td>\n",
       "      <td>...</td>\n",
       "      <td>...</td>\n",
       "      <td>...</td>\n",
       "      <td>...</td>\n",
       "      <td>...</td>\n",
       "      <td>...</td>\n",
       "      <td>...</td>\n",
       "      <td>...</td>\n",
       "      <td>...</td>\n",
       "      <td>...</td>\n",
       "      <td>...</td>\n",
       "      <td>...</td>\n",
       "      <td>...</td>\n",
       "      <td>...</td>\n",
       "      <td>...</td>\n",
       "      <td>...</td>\n",
       "    </tr>\n",
       "    <tr>\n",
       "      <th>198</th>\n",
       "      <td>0.727</td>\n",
       "      <td>0.496</td>\n",
       "      <td>10</td>\n",
       "      <td>-10.742</td>\n",
       "      <td>0</td>\n",
       "      <td>0.0433</td>\n",
       "      <td>0.12500</td>\n",
       "      <td>0.889000</td>\n",
       "      <td>0.1040</td>\n",
       "      <td>0.458</td>\n",
       "      <td>...</td>\n",
       "      <td>5Xum4tqWPwlTxTVLVeDQPA</td>\n",
       "      <td>spotify:track:5Xum4tqWPwlTxTVLVeDQPA</td>\n",
       "      <td>https://api.spotify.com/v1/tracks/5Xum4tqWPwlT...</td>\n",
       "      <td>https://api.spotify.com/v1/audio-analysis/5Xum...</td>\n",
       "      <td>334173</td>\n",
       "      <td>4</td>\n",
       "      <td>our love</td>\n",
       "      <td>caribou</td>\n",
       "      <td>0</td>\n",
       "      <td>5</td>\n",
       "    </tr>\n",
       "    <tr>\n",
       "      <th>199</th>\n",
       "      <td>0.857</td>\n",
       "      <td>0.831</td>\n",
       "      <td>2</td>\n",
       "      <td>-4.664</td>\n",
       "      <td>1</td>\n",
       "      <td>0.0995</td>\n",
       "      <td>0.00158</td>\n",
       "      <td>0.000000</td>\n",
       "      <td>0.1540</td>\n",
       "      <td>0.259</td>\n",
       "      <td>...</td>\n",
       "      <td>4VqLm4L1iAy8UwwsWrZLUA</td>\n",
       "      <td>spotify:track:4VqLm4L1iAy8UwwsWrZLUA</td>\n",
       "      <td>https://api.spotify.com/v1/tracks/4VqLm4L1iAy8...</td>\n",
       "      <td>https://api.spotify.com/v1/audio-analysis/4VqL...</td>\n",
       "      <td>134062</td>\n",
       "      <td>4</td>\n",
       "      <td>i ain't trippin off nothin</td>\n",
       "      <td>ezale</td>\n",
       "      <td>0</td>\n",
       "      <td>7</td>\n",
       "    </tr>\n",
       "    <tr>\n",
       "      <th>200</th>\n",
       "      <td>0.699</td>\n",
       "      <td>0.388</td>\n",
       "      <td>6</td>\n",
       "      <td>-10.722</td>\n",
       "      <td>1</td>\n",
       "      <td>0.0531</td>\n",
       "      <td>0.58800</td>\n",
       "      <td>0.000002</td>\n",
       "      <td>0.0658</td>\n",
       "      <td>0.566</td>\n",
       "      <td>...</td>\n",
       "      <td>0b5w1gamS9f239Sms9guAB</td>\n",
       "      <td>spotify:track:0b5w1gamS9f239Sms9guAB</td>\n",
       "      <td>https://api.spotify.com/v1/tracks/0b5w1gamS9f2...</td>\n",
       "      <td>https://api.spotify.com/v1/audio-analysis/0b5w...</td>\n",
       "      <td>274667</td>\n",
       "      <td>4</td>\n",
       "      <td>they don't know - original mix</td>\n",
       "      <td>disciples</td>\n",
       "      <td>0</td>\n",
       "      <td>1</td>\n",
       "    </tr>\n",
       "    <tr>\n",
       "      <th>201</th>\n",
       "      <td>0.596</td>\n",
       "      <td>0.639</td>\n",
       "      <td>0</td>\n",
       "      <td>-6.546</td>\n",
       "      <td>1</td>\n",
       "      <td>0.0300</td>\n",
       "      <td>0.78300</td>\n",
       "      <td>0.569000</td>\n",
       "      <td>0.3310</td>\n",
       "      <td>0.233</td>\n",
       "      <td>...</td>\n",
       "      <td>0jHZ5yXOZNKvtwPGSgL0gX</td>\n",
       "      <td>spotify:track:0jHZ5yXOZNKvtwPGSgL0gX</td>\n",
       "      <td>https://api.spotify.com/v1/tracks/0jHZ5yXOZNKv...</td>\n",
       "      <td>https://api.spotify.com/v1/audio-analysis/0jHZ...</td>\n",
       "      <td>196627</td>\n",
       "      <td>4</td>\n",
       "      <td>sabali</td>\n",
       "      <td>amadou &amp; mariam</td>\n",
       "      <td>0</td>\n",
       "      <td>1</td>\n",
       "    </tr>\n",
       "    <tr>\n",
       "      <th>202</th>\n",
       "      <td>0.776</td>\n",
       "      <td>0.470</td>\n",
       "      <td>4</td>\n",
       "      <td>-10.308</td>\n",
       "      <td>0</td>\n",
       "      <td>0.0318</td>\n",
       "      <td>0.41900</td>\n",
       "      <td>0.000000</td>\n",
       "      <td>0.1390</td>\n",
       "      <td>0.963</td>\n",
       "      <td>...</td>\n",
       "      <td>4RYwE31p4KflK1h7J7m1Yt</td>\n",
       "      <td>spotify:track:4RYwE31p4KflK1h7J7m1Yt</td>\n",
       "      <td>https://api.spotify.com/v1/tracks/4RYwE31p4Kfl...</td>\n",
       "      <td>https://api.spotify.com/v1/audio-analysis/4RYw...</td>\n",
       "      <td>164933</td>\n",
       "      <td>4</td>\n",
       "      <td>spooky</td>\n",
       "      <td>dusty springfield</td>\n",
       "      <td>0</td>\n",
       "      <td>2</td>\n",
       "    </tr>\n",
       "  </tbody>\n",
       "</table>\n",
       "<p>203 rows × 22 columns</p>\n",
       "</div>"
      ],
      "text/plain": [
       "     danceability  energy  key  loudness  mode  speechiness  acousticness  \\\n",
       "0           0.707   0.681    0    -4.325     1       0.0668       0.06320   \n",
       "1           0.347   0.378    8    -9.960     1       0.0354       0.85700   \n",
       "2           0.517   0.675    6    -5.382     1       0.0357       0.45900   \n",
       "3           0.714   0.472    2    -7.375     1       0.0864       0.01300   \n",
       "4           0.728   0.293    1   -13.657     0       0.0562       0.47900   \n",
       "..            ...     ...  ...       ...   ...          ...           ...   \n",
       "198         0.727   0.496   10   -10.742     0       0.0433       0.12500   \n",
       "199         0.857   0.831    2    -4.664     1       0.0995       0.00158   \n",
       "200         0.699   0.388    6   -10.722     1       0.0531       0.58800   \n",
       "201         0.596   0.639    0    -6.546     1       0.0300       0.78300   \n",
       "202         0.776   0.470    4   -10.308     0       0.0318       0.41900   \n",
       "\n",
       "     instrumentalness  liveness  valence  ...                      id  \\\n",
       "0            0.000005    0.0322    0.646  ...  0yLdNVWF3Srea0uzk55zFn   \n",
       "1            0.000000    0.1180    0.610  ...  5ReIs3aH4wfBjp93QOtWAl   \n",
       "2            0.000000    0.1510    0.518  ...  59uQI0PADDKeE6UZDTJEe8   \n",
       "3            0.000005    0.2660    0.238  ...  3nqQXoyQOWXiESFLlDF1hG   \n",
       "4            0.904000    0.1180    0.152  ...  4CpujwKsq4DxOIMiKr12m8   \n",
       "..                ...       ...      ...  ...                     ...   \n",
       "198          0.889000    0.1040    0.458  ...  5Xum4tqWPwlTxTVLVeDQPA   \n",
       "199          0.000000    0.1540    0.259  ...  4VqLm4L1iAy8UwwsWrZLUA   \n",
       "200          0.000002    0.0658    0.566  ...  0b5w1gamS9f239Sms9guAB   \n",
       "201          0.569000    0.3310    0.233  ...  0jHZ5yXOZNKvtwPGSgL0gX   \n",
       "202          0.000000    0.1390    0.963  ...  4RYwE31p4KflK1h7J7m1Yt   \n",
       "\n",
       "                                      uri  \\\n",
       "0    spotify:track:0yLdNVWF3Srea0uzk55zFn   \n",
       "1    spotify:track:5ReIs3aH4wfBjp93QOtWAl   \n",
       "2    spotify:track:59uQI0PADDKeE6UZDTJEe8   \n",
       "3    spotify:track:3nqQXoyQOWXiESFLlDF1hG   \n",
       "4    spotify:track:4CpujwKsq4DxOIMiKr12m8   \n",
       "..                                    ...   \n",
       "198  spotify:track:5Xum4tqWPwlTxTVLVeDQPA   \n",
       "199  spotify:track:4VqLm4L1iAy8UwwsWrZLUA   \n",
       "200  spotify:track:0b5w1gamS9f239Sms9guAB   \n",
       "201  spotify:track:0jHZ5yXOZNKvtwPGSgL0gX   \n",
       "202  spotify:track:4RYwE31p4KflK1h7J7m1Yt   \n",
       "\n",
       "                                            track_href  \\\n",
       "0    https://api.spotify.com/v1/tracks/0yLdNVWF3Sre...   \n",
       "1    https://api.spotify.com/v1/tracks/5ReIs3aH4wfB...   \n",
       "2    https://api.spotify.com/v1/tracks/59uQI0PADDKe...   \n",
       "3    https://api.spotify.com/v1/tracks/3nqQXoyQOWXi...   \n",
       "4    https://api.spotify.com/v1/tracks/4CpujwKsq4Dx...   \n",
       "..                                                 ...   \n",
       "198  https://api.spotify.com/v1/tracks/5Xum4tqWPwlT...   \n",
       "199  https://api.spotify.com/v1/tracks/4VqLm4L1iAy8...   \n",
       "200  https://api.spotify.com/v1/tracks/0b5w1gamS9f2...   \n",
       "201  https://api.spotify.com/v1/tracks/0jHZ5yXOZNKv...   \n",
       "202  https://api.spotify.com/v1/tracks/4RYwE31p4Kfl...   \n",
       "\n",
       "                                          analysis_url duration_ms  \\\n",
       "0    https://api.spotify.com/v1/audio-analysis/0yLd...      200455   \n",
       "1    https://api.spotify.com/v1/audio-analysis/5ReI...      168609   \n",
       "2    https://api.spotify.com/v1/audio-analysis/59uQ...      163855   \n",
       "3    https://api.spotify.com/v1/audio-analysis/3nqQ...      156943   \n",
       "4    https://api.spotify.com/v1/audio-analysis/4Cpu...      217026   \n",
       "..                                                 ...         ...   \n",
       "198  https://api.spotify.com/v1/audio-analysis/5Xum...      334173   \n",
       "199  https://api.spotify.com/v1/audio-analysis/4VqL...      134062   \n",
       "200  https://api.spotify.com/v1/audio-analysis/0b5w...      274667   \n",
       "201  https://api.spotify.com/v1/audio-analysis/0jHZ...      196627   \n",
       "202  https://api.spotify.com/v1/audio-analysis/4RYw...      164933   \n",
       "\n",
       "    time_signature                           title  \\\n",
       "0                4                         flowers   \n",
       "1                4                       kill bill   \n",
       "2                4                      last night   \n",
       "3                4                          unholy   \n",
       "4                4                        creepin'   \n",
       "..             ...                             ...   \n",
       "198              4                        our love   \n",
       "199              4      i ain't trippin off nothin   \n",
       "200              4  they don't know - original mix   \n",
       "201              4                          sabali   \n",
       "202              4                          spooky   \n",
       "\n",
       "                                   artist hot_100 cluster  \n",
       "0                             miley cyrus       1       2  \n",
       "1                                     sza       1       1  \n",
       "2                           morgan wallen       1       0  \n",
       "3                  sam smith & kim petras       1       7  \n",
       "4    metro boomin, the weeknd & 21 savage       1       3  \n",
       "..                                    ...     ...     ...  \n",
       "198                               caribou       0       5  \n",
       "199                                 ezale       0       7  \n",
       "200                             disciples       0       1  \n",
       "201                       amadou & mariam       0       1  \n",
       "202                     dusty springfield       0       2  \n",
       "\n",
       "[203 rows x 22 columns]"
      ]
     },
     "execution_count": 4,
     "metadata": {},
     "output_type": "execute_result"
    }
   ],
   "source": [
    "song_clusters_df.head(203)"
   ]
  },
  {
   "cell_type": "code",
   "execution_count": 5,
   "id": "3e9f7dce",
   "metadata": {},
   "outputs": [
    {
     "name": "stdout",
     "output_type": "stream",
     "text": [
      "<class 'pandas.core.frame.DataFrame'>\n",
      "RangeIndex: 2489 entries, 0 to 2488\n",
      "Data columns (total 22 columns):\n",
      " #   Column            Non-Null Count  Dtype  \n",
      "---  ------            --------------  -----  \n",
      " 0   danceability      2489 non-null   float64\n",
      " 1   energy            2489 non-null   float64\n",
      " 2   key               2489 non-null   int64  \n",
      " 3   loudness          2489 non-null   float64\n",
      " 4   mode              2489 non-null   int64  \n",
      " 5   speechiness       2489 non-null   float64\n",
      " 6   acousticness      2489 non-null   float64\n",
      " 7   instrumentalness  2489 non-null   float64\n",
      " 8   liveness          2489 non-null   float64\n",
      " 9   valence           2489 non-null   float64\n",
      " 10  tempo             2489 non-null   float64\n",
      " 11  type              2489 non-null   object \n",
      " 12  id                2489 non-null   object \n",
      " 13  uri               2489 non-null   object \n",
      " 14  track_href        2489 non-null   object \n",
      " 15  analysis_url      2489 non-null   object \n",
      " 16  duration_ms       2489 non-null   int64  \n",
      " 17  time_signature    2489 non-null   int64  \n",
      " 18  title             2489 non-null   object \n",
      " 19  artist            2489 non-null   object \n",
      " 20  hot_100           2489 non-null   int64  \n",
      " 21  cluster           2489 non-null   int64  \n",
      "dtypes: float64(9), int64(6), object(7)\n",
      "memory usage: 427.9+ KB\n"
     ]
    }
   ],
   "source": [
    "song_clusters_df.info()"
   ]
  },
  {
   "cell_type": "code",
   "execution_count": 6,
   "id": "db6c278d",
   "metadata": {},
   "outputs": [],
   "source": [
    "song_clusters_df = song_clusters_df.drop_duplicates()"
   ]
  },
  {
   "cell_type": "code",
   "execution_count": 7,
   "id": "110e9dcf",
   "metadata": {},
   "outputs": [],
   "source": [
    "def search_song(title, artist, limit=1):\n",
    "    try:\n",
    "        result = sp.search(q=title + artist, limit=limit)\n",
    "        return result[\"tracks\"][\"items\"][0][\"id\"]\n",
    "    except:\n",
    "        return None"
   ]
  },
  {
   "cell_type": "code",
   "execution_count": 22,
   "id": "2c0027e6",
   "metadata": {},
   "outputs": [
    {
     "name": "stdout",
     "output_type": "stream",
     "text": [
      "none\n"
     ]
    }
   ],
   "source": [
    "a = search_song(\"asdsadasd\", \"sdafsfdgf\")"
   ]
  },
  {
   "cell_type": "code",
   "execution_count": 21,
   "id": "ce19e151",
   "metadata": {
    "scrolled": true
   },
   "outputs": [],
   "source": [
    "def read_song_and_artist():\n",
    "    title_s = input(\"Please Enter the song title: \").lower()\n",
    "    artist_s = input(\"Please Enter the artist title: \").lower()\n",
    "    \n",
    "    return artist_s,title_s"
   ]
  },
  {
   "cell_type": "code",
   "execution_count": null,
   "id": "311c1463",
   "metadata": {},
   "outputs": [],
   "source": [
    "input_s = search_song(title_s,artist_s,1)"
   ]
  },
  {
   "cell_type": "code",
   "execution_count": 10,
   "id": "3c3bd122",
   "metadata": {
    "scrolled": false
   },
   "outputs": [
    {
     "data": {
      "text/plain": [
       "[{'danceability': 0.637,\n",
       "  'energy': 0.678,\n",
       "  'key': 0,\n",
       "  'loudness': -3.798,\n",
       "  'mode': 1,\n",
       "  'speechiness': 0.266,\n",
       "  'acousticness': 0.209,\n",
       "  'instrumentalness': 0,\n",
       "  'liveness': 0.156,\n",
       "  'valence': 0.254,\n",
       "  'tempo': 84.039,\n",
       "  'type': 'audio_features',\n",
       "  'id': '561jH07mF1jHuk7KlaeF0s',\n",
       "  'uri': 'spotify:track:561jH07mF1jHuk7KlaeF0s',\n",
       "  'track_href': 'https://api.spotify.com/v1/tracks/561jH07mF1jHuk7KlaeF0s',\n",
       "  'analysis_url': 'https://api.spotify.com/v1/audio-analysis/561jH07mF1jHuk7KlaeF0s',\n",
       "  'duration_ms': 250760,\n",
       "  'time_signature': 4}]"
      ]
     },
     "execution_count": 10,
     "metadata": {},
     "output_type": "execute_result"
    }
   ],
   "source": [
    "my_dict = sp.audio_features(input_s)\n",
    "my_dict"
   ]
  },
  {
   "cell_type": "code",
   "execution_count": 11,
   "id": "e9879fe2",
   "metadata": {},
   "outputs": [],
   "source": [
    "input_df = pd.DataFrame(my_dict)"
   ]
  },
  {
   "cell_type": "code",
   "execution_count": 12,
   "id": "bdce4101",
   "metadata": {},
   "outputs": [
    {
     "data": {
      "text/html": [
       "<div>\n",
       "<style scoped>\n",
       "    .dataframe tbody tr th:only-of-type {\n",
       "        vertical-align: middle;\n",
       "    }\n",
       "\n",
       "    .dataframe tbody tr th {\n",
       "        vertical-align: top;\n",
       "    }\n",
       "\n",
       "    .dataframe thead th {\n",
       "        text-align: right;\n",
       "    }\n",
       "</style>\n",
       "<table border=\"1\" class=\"dataframe\">\n",
       "  <thead>\n",
       "    <tr style=\"text-align: right;\">\n",
       "      <th></th>\n",
       "      <th>danceability</th>\n",
       "      <th>energy</th>\n",
       "      <th>loudness</th>\n",
       "      <th>speechiness</th>\n",
       "      <th>acousticness</th>\n",
       "      <th>instrumentalness</th>\n",
       "      <th>liveness</th>\n",
       "      <th>valence</th>\n",
       "      <th>tempo</th>\n",
       "      <th>duration_ms</th>\n",
       "    </tr>\n",
       "  </thead>\n",
       "  <tbody>\n",
       "    <tr>\n",
       "      <th>0</th>\n",
       "      <td>0.637</td>\n",
       "      <td>0.678</td>\n",
       "      <td>-3.798</td>\n",
       "      <td>0.266</td>\n",
       "      <td>0.209</td>\n",
       "      <td>0</td>\n",
       "      <td>0.156</td>\n",
       "      <td>0.254</td>\n",
       "      <td>84.039</td>\n",
       "      <td>250760</td>\n",
       "    </tr>\n",
       "  </tbody>\n",
       "</table>\n",
       "</div>"
      ],
      "text/plain": [
       "   danceability  energy  loudness  speechiness  acousticness  \\\n",
       "0         0.637   0.678    -3.798        0.266         0.209   \n",
       "\n",
       "   instrumentalness  liveness  valence   tempo  duration_ms  \n",
       "0                 0     0.156    0.254  84.039       250760  "
      ]
     },
     "execution_count": 12,
     "metadata": {},
     "output_type": "execute_result"
    }
   ],
   "source": [
    "input_s = input_df.drop(['type','id','uri','track_href','analysis_url',\n",
    "                                    'time_signature','key','mode'],axis=1)\n",
    "input_s"
   ]
  },
  {
   "cell_type": "code",
   "execution_count": 29,
   "id": "e168fa55",
   "metadata": {},
   "outputs": [],
   "source": [
    "def load(filename = \"../scalers/scaler.pickle\"): \n",
    "    try: \n",
    "        with open(filename, \"rb\") as file: \n",
    "            return pickle.load(file) \n",
    "    except FileNotFoundError: \n",
    "        print(\"File \", filename, \" not found!\")\n",
    "        return None"
   ]
  },
  {
   "cell_type": "code",
   "execution_count": 14,
   "id": "bef2df46",
   "metadata": {},
   "outputs": [
    {
     "data": {
      "text/plain": [
       "StandardScaler()"
      ]
     },
     "execution_count": 14,
     "metadata": {},
     "output_type": "execute_result"
    }
   ],
   "source": [
    "scaler = load(\"../scalers/scaler.pickle\")\n",
    "scaler"
   ]
  },
  {
   "cell_type": "code",
   "execution_count": 15,
   "id": "10c2b945",
   "metadata": {},
   "outputs": [],
   "source": [
    "best_model = load(\"../models/Kmeans8.pickle\")"
   ]
  },
  {
   "cell_type": "code",
   "execution_count": 16,
   "id": "2d62d26e",
   "metadata": {},
   "outputs": [],
   "source": [
    "song_scaled = scaler.transform(input_s)"
   ]
  },
  {
   "cell_type": "code",
   "execution_count": 17,
   "id": "ab65dc86",
   "metadata": {},
   "outputs": [
    {
     "name": "stderr",
     "output_type": "stream",
     "text": [
      "/Users/natashabenson/opt/anaconda3/lib/python3.9/site-packages/sklearn/base.py:450: UserWarning: X does not have valid feature names, but KMeans was fitted with feature names\n",
      "  warnings.warn(\n"
     ]
    }
   ],
   "source": [
    "song_c = best_model.predict(song_scaled)"
   ]
  },
  {
   "cell_type": "code",
   "execution_count": 18,
   "id": "1bb58bf8",
   "metadata": {},
   "outputs": [
    {
     "data": {
      "text/plain": [
       "array([6], dtype=int32)"
      ]
     },
     "execution_count": 18,
     "metadata": {},
     "output_type": "execute_result"
    }
   ],
   "source": [
    "song_c"
   ]
  },
  {
   "cell_type": "code",
   "execution_count": 19,
   "id": "379ede61",
   "metadata": {},
   "outputs": [],
   "source": [
    "cluster_n = song_clusters_df[song_clusters_df['cluster'] == song_c[0]] \n",
    "recommend = (cluster_n.iloc[:,18:20]).sample(5)"
   ]
  },
  {
   "cell_type": "code",
   "execution_count": 20,
   "id": "2a8bf054",
   "metadata": {
    "scrolled": true
   },
   "outputs": [
    {
     "data": {
      "text/html": [
       "<div>\n",
       "<style scoped>\n",
       "    .dataframe tbody tr th:only-of-type {\n",
       "        vertical-align: middle;\n",
       "    }\n",
       "\n",
       "    .dataframe tbody tr th {\n",
       "        vertical-align: top;\n",
       "    }\n",
       "\n",
       "    .dataframe thead th {\n",
       "        text-align: right;\n",
       "    }\n",
       "</style>\n",
       "<table border=\"1\" class=\"dataframe\">\n",
       "  <thead>\n",
       "    <tr style=\"text-align: right;\">\n",
       "      <th></th>\n",
       "      <th>title</th>\n",
       "      <th>artist</th>\n",
       "    </tr>\n",
       "  </thead>\n",
       "  <tbody>\n",
       "    <tr>\n",
       "      <th>115</th>\n",
       "      <td>xanny family</td>\n",
       "      <td>future</td>\n",
       "    </tr>\n",
       "    <tr>\n",
       "      <th>160</th>\n",
       "      <td>jumpman</td>\n",
       "      <td>drake</td>\n",
       "    </tr>\n",
       "    <tr>\n",
       "      <th>991</th>\n",
       "      <td>razor</td>\n",
       "      <td>astr</td>\n",
       "    </tr>\n",
       "    <tr>\n",
       "      <th>94</th>\n",
       "      <td>in ha mood</td>\n",
       "      <td>ice spice</td>\n",
       "    </tr>\n",
       "    <tr>\n",
       "      <th>769</th>\n",
       "      <td>murderer</td>\n",
       "      <td>barrington levy</td>\n",
       "    </tr>\n",
       "  </tbody>\n",
       "</table>\n",
       "</div>"
      ],
      "text/plain": [
       "            title           artist\n",
       "115  xanny family           future\n",
       "160       jumpman            drake\n",
       "991         razor             astr\n",
       "94     in ha mood        ice spice\n",
       "769      murderer  barrington levy"
      ]
     },
     "execution_count": 20,
     "metadata": {},
     "output_type": "execute_result"
    }
   ],
   "source": [
    "recommend"
   ]
  },
  {
   "cell_type": "code",
   "execution_count": 26,
   "id": "4af48935",
   "metadata": {},
   "outputs": [
    {
     "data": {
      "text/plain": [
       "[None]"
      ]
     },
     "execution_count": 26,
     "metadata": {},
     "output_type": "execute_result"
    }
   ],
   "source": [
    "sp.audio_features(\"asdfdsfdsfsdf\")"
   ]
  },
  {
   "cell_type": "code",
   "execution_count": 52,
   "id": "e601ea74",
   "metadata": {
    "scrolled": true
   },
   "outputs": [
    {
     "name": "stdout",
     "output_type": "stream",
     "text": [
      "Please Enter the song title: mockingbird\n",
      "Please Enter the artist title: eminem\n",
      "Recommmended: a tribe called quest - can i kick it?\n",
      "Wanna quit? (y|n) n\n",
      "Please Enter the song title: mockingbird\n",
      "Please Enter the artist title: eminem\n",
      "Recommmended: porter robinson - language\n",
      "Wanna quit? (y|n) y\n"
     ]
    }
   ],
   "source": [
    "done = False\n",
    "\n",
    "scaler = load(\"../scalers/scaler.pickle\")\n",
    "model  = load(\"../models/Kmeans8.pickle\")\n",
    "songs  = song_clusters_df\n",
    "\n",
    "\n",
    "while not done:\n",
    "    \n",
    "    title,artist = read_song_and_artist()\n",
    "    \n",
    "    id = search_song(title, artist)\n",
    "    if not id:\n",
    "        print(\"! Unable to get song id\")\n",
    "        continue\n",
    "    \n",
    "    af = sp.audio_features(id)\n",
    "    if not af:\n",
    "        print(\"! Unable to get audio features\")\n",
    "        continue\n",
    "\n",
    "    af_scaled_df = pd.DataFrame(af)\n",
    "    af_scaled_df.drop(['type','id','uri','track_href','analysis_url',\n",
    "                                    'time_signature','key','mode'], axis=1, inplace=True)\n",
    "    af_scaled = scaler.transform(af_scaled_df)\n",
    "    af_scaled_df = pd.DataFrame(af_scaled, columns=af_scaled_df.columns)\n",
    "    \n",
    "    cluster = model.predict(af_scaled_df)[0]\n",
    "    \n",
    "    if not songs[(songs[\"id\"] == id) & (songs[\"hot_100\"] == 1)].empty:\n",
    "        recommended = songs[(songs[\"hot_100\"] == 1) & (songs[\"cluster\"] == cluster)].sample()\n",
    "    else:\n",
    "        recommended = songs[(songs[\"hot_100\"] == 0) & (songs[\"cluster\"] == cluster)].sample()\n",
    "        \n",
    "    artist = recommended[\"artist\"].values[0]\n",
    "    title  = recommended[\"title\"].values[0]\n",
    "\n",
    "    print(\"Recommmended: {} - {}\".format(artist, title))\n",
    "    \n",
    "    quit = input(\"Wanna quit? (y|n) \")\n",
    "    if quit == \"y\":\n",
    "        done = True\n",
    "        print(\"Good bye\")"
   ]
  },
  {
   "cell_type": "code",
   "execution_count": 51,
   "id": "8806cc15",
   "metadata": {},
   "outputs": [
    {
     "data": {
      "text/plain": [
       "'miley cyrus'"
      ]
     },
     "execution_count": 51,
     "metadata": {},
     "output_type": "execute_result"
    }
   ],
   "source": [
    "songs.artist.values[0]"
   ]
  }
 ],
 "metadata": {
  "kernelspec": {
   "display_name": "Python 3 (ipykernel)",
   "language": "python",
   "name": "python3"
  },
  "language_info": {
   "codemirror_mode": {
    "name": "ipython",
    "version": 3
   },
   "file_extension": ".py",
   "mimetype": "text/x-python",
   "name": "python",
   "nbconvert_exporter": "python",
   "pygments_lexer": "ipython3",
   "version": "3.9.13"
  }
 },
 "nbformat": 4,
 "nbformat_minor": 5
}
