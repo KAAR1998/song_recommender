{
 "cells": [
  {
   "cell_type": "code",
   "execution_count": 4,
   "id": "499b8c70",
   "metadata": {},
   "outputs": [],
   "source": [
    "import spotipy\n",
    "import pandas as pd\n",
    "import json\n",
    "from spotipy.oauth2 import SpotifyClientCredentials\n",
    "from config import *"
   ]
  },
  {
   "cell_type": "code",
   "execution_count": 19,
   "id": "f3782e8f",
   "metadata": {},
   "outputs": [],
   "source": [
    "#Initialize SpotiPy with user credentias # \n",
    "sp = spotipy.Spotify(auth_manager=SpotifyClientCredentials(client_id= Client_ID,\n",
    "                                                           client_secret= Client_Secret))"
   ]
  },
  {
   "cell_type": "code",
   "execution_count": 20,
   "id": "8153708d",
   "metadata": {},
   "outputs": [],
   "source": [
    "not_100 = pd.read_csv(\"not_hot.csv\")"
   ]
  },
  {
   "cell_type": "code",
   "execution_count": 21,
   "id": "17e0ef8e",
   "metadata": {},
   "outputs": [
    {
     "data": {
      "text/html": [
       "<div>\n",
       "<style scoped>\n",
       "    .dataframe tbody tr th:only-of-type {\n",
       "        vertical-align: middle;\n",
       "    }\n",
       "\n",
       "    .dataframe tbody tr th {\n",
       "        vertical-align: top;\n",
       "    }\n",
       "\n",
       "    .dataframe thead th {\n",
       "        text-align: right;\n",
       "    }\n",
       "</style>\n",
       "<table border=\"1\" class=\"dataframe\">\n",
       "  <thead>\n",
       "    <tr style=\"text-align: right;\">\n",
       "      <th></th>\n",
       "      <th>title</th>\n",
       "      <th>artist</th>\n",
       "    </tr>\n",
       "  </thead>\n",
       "  <tbody>\n",
       "    <tr>\n",
       "      <th>0</th>\n",
       "      <td>Mask Off</td>\n",
       "      <td>Future</td>\n",
       "    </tr>\n",
       "    <tr>\n",
       "      <th>1</th>\n",
       "      <td>Redbone</td>\n",
       "      <td>Childish Gambino</td>\n",
       "    </tr>\n",
       "    <tr>\n",
       "      <th>2</th>\n",
       "      <td>Xanny Family</td>\n",
       "      <td>Future</td>\n",
       "    </tr>\n",
       "    <tr>\n",
       "      <th>3</th>\n",
       "      <td>Master Of None</td>\n",
       "      <td>Beach House</td>\n",
       "    </tr>\n",
       "    <tr>\n",
       "      <th>4</th>\n",
       "      <td>Parallel Lines</td>\n",
       "      <td>Junior Boys</td>\n",
       "    </tr>\n",
       "  </tbody>\n",
       "</table>\n",
       "</div>"
      ],
      "text/plain": [
       "            title            artist\n",
       "0        Mask Off            Future\n",
       "1         Redbone  Childish Gambino\n",
       "2    Xanny Family            Future\n",
       "3  Master Of None       Beach House\n",
       "4  Parallel Lines       Junior Boys"
      ]
     },
     "execution_count": 21,
     "metadata": {},
     "output_type": "execute_result"
    }
   ],
   "source": [
    "not_100.head()"
   ]
  },
  {
   "cell_type": "code",
   "execution_count": 8,
   "id": "8d047145",
   "metadata": {},
   "outputs": [
    {
     "data": {
      "text/html": [
       "<div>\n",
       "<style scoped>\n",
       "    .dataframe tbody tr th:only-of-type {\n",
       "        vertical-align: middle;\n",
       "    }\n",
       "\n",
       "    .dataframe tbody tr th {\n",
       "        vertical-align: top;\n",
       "    }\n",
       "\n",
       "    .dataframe thead th {\n",
       "        text-align: right;\n",
       "    }\n",
       "</style>\n",
       "<table border=\"1\" class=\"dataframe\">\n",
       "  <thead>\n",
       "    <tr style=\"text-align: right;\">\n",
       "      <th></th>\n",
       "      <th>title</th>\n",
       "      <th>artist</th>\n",
       "    </tr>\n",
       "  </thead>\n",
       "  <tbody>\n",
       "    <tr>\n",
       "      <th>0</th>\n",
       "      <td>Flowers</td>\n",
       "      <td>Miley Cyrus</td>\n",
       "    </tr>\n",
       "    <tr>\n",
       "      <th>1</th>\n",
       "      <td>Kill Bill</td>\n",
       "      <td>SZA</td>\n",
       "    </tr>\n",
       "    <tr>\n",
       "      <th>2</th>\n",
       "      <td>Creepin'</td>\n",
       "      <td>Metro Boomin, The Weeknd &amp; 21 Savage</td>\n",
       "    </tr>\n",
       "    <tr>\n",
       "      <th>3</th>\n",
       "      <td>Anti-Hero</td>\n",
       "      <td>Taylor Swift</td>\n",
       "    </tr>\n",
       "    <tr>\n",
       "      <th>4</th>\n",
       "      <td>Unholy</td>\n",
       "      <td>Sam Smith &amp; Kim Petras</td>\n",
       "    </tr>\n",
       "  </tbody>\n",
       "</table>\n",
       "</div>"
      ],
      "text/plain": [
       "       title                                artist\n",
       "0    Flowers                           Miley Cyrus\n",
       "1  Kill Bill                                   SZA\n",
       "2   Creepin'  Metro Boomin, The Weeknd & 21 Savage\n",
       "3  Anti-Hero                          Taylor Swift\n",
       "4     Unholy                Sam Smith & Kim Petras"
      ]
     },
     "execution_count": 8,
     "metadata": {},
     "output_type": "execute_result"
    }
   ],
   "source": [
    "hot_100= pd.read_csv(\"hot_100.csv\")\n",
    "hot_100.head()"
   ]
  },
  {
   "cell_type": "code",
   "execution_count": 27,
   "id": "7af6918c",
   "metadata": {},
   "outputs": [
    {
     "data": {
      "text/html": [
       "<div>\n",
       "<style scoped>\n",
       "    .dataframe tbody tr th:only-of-type {\n",
       "        vertical-align: middle;\n",
       "    }\n",
       "\n",
       "    .dataframe tbody tr th {\n",
       "        vertical-align: top;\n",
       "    }\n",
       "\n",
       "    .dataframe thead th {\n",
       "        text-align: right;\n",
       "    }\n",
       "</style>\n",
       "<table border=\"1\" class=\"dataframe\">\n",
       "  <thead>\n",
       "    <tr style=\"text-align: right;\">\n",
       "      <th></th>\n",
       "      <th>title</th>\n",
       "      <th>artist</th>\n",
       "    </tr>\n",
       "  </thead>\n",
       "  <tbody>\n",
       "    <tr>\n",
       "      <th>0</th>\n",
       "      <td>mask off</td>\n",
       "      <td>future</td>\n",
       "    </tr>\n",
       "    <tr>\n",
       "      <th>1</th>\n",
       "      <td>redbone</td>\n",
       "      <td>childish gambino</td>\n",
       "    </tr>\n",
       "    <tr>\n",
       "      <th>2</th>\n",
       "      <td>xanny family</td>\n",
       "      <td>future</td>\n",
       "    </tr>\n",
       "    <tr>\n",
       "      <th>3</th>\n",
       "      <td>master of none</td>\n",
       "      <td>beach house</td>\n",
       "    </tr>\n",
       "    <tr>\n",
       "      <th>4</th>\n",
       "      <td>parallel lines</td>\n",
       "      <td>junior boys</td>\n",
       "    </tr>\n",
       "  </tbody>\n",
       "</table>\n",
       "</div>"
      ],
      "text/plain": [
       "            title            artist\n",
       "0        mask off            future\n",
       "1         redbone  childish gambino\n",
       "2    xanny family            future\n",
       "3  master of none       beach house\n",
       "4  parallel lines       junior boys"
      ]
     },
     "execution_count": 27,
     "metadata": {},
     "output_type": "execute_result"
    }
   ],
   "source": [
    "not_100['title']=not_100[['title']].apply(lambda x: x.str.lower())\n",
    "not_100['artist']=not_100[['artist']].apply(lambda x: x.str.lower())\n",
    "not_100.head()"
   ]
  },
  {
   "cell_type": "code",
   "execution_count": 28,
   "id": "083fd2c8",
   "metadata": {},
   "outputs": [
    {
     "data": {
      "text/html": [
       "<div>\n",
       "<style scoped>\n",
       "    .dataframe tbody tr th:only-of-type {\n",
       "        vertical-align: middle;\n",
       "    }\n",
       "\n",
       "    .dataframe tbody tr th {\n",
       "        vertical-align: top;\n",
       "    }\n",
       "\n",
       "    .dataframe thead th {\n",
       "        text-align: right;\n",
       "    }\n",
       "</style>\n",
       "<table border=\"1\" class=\"dataframe\">\n",
       "  <thead>\n",
       "    <tr style=\"text-align: right;\">\n",
       "      <th></th>\n",
       "      <th>title</th>\n",
       "      <th>artist</th>\n",
       "    </tr>\n",
       "  </thead>\n",
       "  <tbody>\n",
       "    <tr>\n",
       "      <th>0</th>\n",
       "      <td>flowers</td>\n",
       "      <td>miley cyrus</td>\n",
       "    </tr>\n",
       "    <tr>\n",
       "      <th>1</th>\n",
       "      <td>kill bill</td>\n",
       "      <td>sza</td>\n",
       "    </tr>\n",
       "    <tr>\n",
       "      <th>2</th>\n",
       "      <td>creepin'</td>\n",
       "      <td>metro boomin, the weeknd &amp; 21 savage</td>\n",
       "    </tr>\n",
       "    <tr>\n",
       "      <th>3</th>\n",
       "      <td>anti-hero</td>\n",
       "      <td>taylor swift</td>\n",
       "    </tr>\n",
       "    <tr>\n",
       "      <th>4</th>\n",
       "      <td>unholy</td>\n",
       "      <td>sam smith &amp; kim petras</td>\n",
       "    </tr>\n",
       "  </tbody>\n",
       "</table>\n",
       "</div>"
      ],
      "text/plain": [
       "       title                                artist\n",
       "0    flowers                           miley cyrus\n",
       "1  kill bill                                   sza\n",
       "2   creepin'  metro boomin, the weeknd & 21 savage\n",
       "3  anti-hero                          taylor swift\n",
       "4     unholy                sam smith & kim petras"
      ]
     },
     "execution_count": 28,
     "metadata": {},
     "output_type": "execute_result"
    }
   ],
   "source": [
    "hot_100['title']=hot_100[['title']].apply(lambda x: x.str.lower())\n",
    "hot_100['artist']=hot_100[['artist']].apply(lambda x: x.str.lower())\n",
    "hot_100.head()"
   ]
  },
  {
   "cell_type": "code",
   "execution_count": 38,
   "id": "509140f1",
   "metadata": {},
   "outputs": [],
   "source": [
    "def search_song(title, artist, limit=1):\n",
    "    try:\n",
    "        result = sp.search(q=title + artist, limit=limit)\n",
    "        return result[\"tracks\"][\"items\"][0][\"uri\"]\n",
    "    except:\n",
    "        print('none')"
   ]
  },
  {
   "cell_type": "code",
   "execution_count": 39,
   "id": "69866e57",
   "metadata": {},
   "outputs": [
    {
     "data": {
      "text/plain": [
       "'spotify:track:0VgkVdmE4gld66l8iyGjgx'"
      ]
     },
     "execution_count": 39,
     "metadata": {},
     "output_type": "execute_result"
    }
   ],
   "source": [
    "search_song('mask off', 'future', limit=1)"
   ]
  },
  {
   "cell_type": "code",
   "execution_count": 44,
   "id": "135ae68f",
   "metadata": {},
   "outputs": [],
   "source": [
    "title_top_100 = hot_100['title'].to_list()\n",
    "artist_top_100 = hot_100['artist'].to_list()"
   ]
  },
  {
   "cell_type": "code",
   "execution_count": 49,
   "id": "2aa0eaa0",
   "metadata": {},
   "outputs": [],
   "source": [
    "uris = []\n",
    "for i in range(len(title_top_100)):\n",
    "    uris.append(search_song(title_top_100[i], artist_top_100[i], limit=1))"
   ]
  },
  {
   "cell_type": "code",
   "execution_count": 51,
   "id": "394a7cf2",
   "metadata": {},
   "outputs": [
    {
     "data": {
      "text/html": [
       "<div>\n",
       "<style scoped>\n",
       "    .dataframe tbody tr th:only-of-type {\n",
       "        vertical-align: middle;\n",
       "    }\n",
       "\n",
       "    .dataframe tbody tr th {\n",
       "        vertical-align: top;\n",
       "    }\n",
       "\n",
       "    .dataframe thead th {\n",
       "        text-align: right;\n",
       "    }\n",
       "</style>\n",
       "<table border=\"1\" class=\"dataframe\">\n",
       "  <thead>\n",
       "    <tr style=\"text-align: right;\">\n",
       "      <th></th>\n",
       "      <th>title</th>\n",
       "      <th>artist</th>\n",
       "      <th>uri</th>\n",
       "    </tr>\n",
       "  </thead>\n",
       "  <tbody>\n",
       "    <tr>\n",
       "      <th>0</th>\n",
       "      <td>flowers</td>\n",
       "      <td>miley cyrus</td>\n",
       "      <td>spotify:track:0yLdNVWF3Srea0uzk55zFn</td>\n",
       "    </tr>\n",
       "    <tr>\n",
       "      <th>1</th>\n",
       "      <td>kill bill</td>\n",
       "      <td>sza</td>\n",
       "      <td>spotify:track:5ReIs3aH4wfBjp93QOtWAl</td>\n",
       "    </tr>\n",
       "    <tr>\n",
       "      <th>2</th>\n",
       "      <td>creepin'</td>\n",
       "      <td>metro boomin, the weeknd &amp; 21 savage</td>\n",
       "      <td>spotify:track:4CpujwKsq4DxOIMiKr12m8</td>\n",
       "    </tr>\n",
       "    <tr>\n",
       "      <th>3</th>\n",
       "      <td>anti-hero</td>\n",
       "      <td>taylor swift</td>\n",
       "      <td>spotify:track:0V3wPSX9ygBnCm8psDIegu</td>\n",
       "    </tr>\n",
       "    <tr>\n",
       "      <th>4</th>\n",
       "      <td>unholy</td>\n",
       "      <td>sam smith &amp; kim petras</td>\n",
       "      <td>spotify:track:3nqQXoyQOWXiESFLlDF1hG</td>\n",
       "    </tr>\n",
       "    <tr>\n",
       "      <th>...</th>\n",
       "      <td>...</td>\n",
       "      <td>...</td>\n",
       "      <td>...</td>\n",
       "    </tr>\n",
       "    <tr>\n",
       "      <th>95</th>\n",
       "      <td>hey mor</td>\n",
       "      <td>ozuna featuring feid</td>\n",
       "      <td>spotify:track:1zsPaEkglFvxjAhrM8yhpr</td>\n",
       "    </tr>\n",
       "    <tr>\n",
       "      <th>96</th>\n",
       "      <td>gato de noche</td>\n",
       "      <td>nengo flow &amp; bad bunny</td>\n",
       "      <td>spotify:track:54ELExv56KCAB4UP9cOCzC</td>\n",
       "    </tr>\n",
       "    <tr>\n",
       "      <th>97</th>\n",
       "      <td>heart to heart</td>\n",
       "      <td>mac demarco</td>\n",
       "      <td>spotify:track:7EAMXbLcL0qXmciM5SwMh2</td>\n",
       "    </tr>\n",
       "    <tr>\n",
       "      <th>98</th>\n",
       "      <td>never gonna not dance again</td>\n",
       "      <td>p!nk</td>\n",
       "      <td>spotify:track:6sZo5nJIsFWXefRCCexpx0</td>\n",
       "    </tr>\n",
       "    <tr>\n",
       "      <th>99</th>\n",
       "      <td>dancin' in the country</td>\n",
       "      <td>tyler hubbard</td>\n",
       "      <td>spotify:track:6Z1bV93BP95h4YjIavrQPf</td>\n",
       "    </tr>\n",
       "  </tbody>\n",
       "</table>\n",
       "<p>100 rows × 3 columns</p>\n",
       "</div>"
      ],
      "text/plain": [
       "                          title                                artist  \\\n",
       "0                       flowers                           miley cyrus   \n",
       "1                     kill bill                                   sza   \n",
       "2                      creepin'  metro boomin, the weeknd & 21 savage   \n",
       "3                     anti-hero                          taylor swift   \n",
       "4                        unholy                sam smith & kim petras   \n",
       "..                          ...                                   ...   \n",
       "95                      hey mor                  ozuna featuring feid   \n",
       "96                gato de noche                nengo flow & bad bunny   \n",
       "97               heart to heart                           mac demarco   \n",
       "98  never gonna not dance again                                  p!nk   \n",
       "99       dancin' in the country                         tyler hubbard   \n",
       "\n",
       "                                     uri  \n",
       "0   spotify:track:0yLdNVWF3Srea0uzk55zFn  \n",
       "1   spotify:track:5ReIs3aH4wfBjp93QOtWAl  \n",
       "2   spotify:track:4CpujwKsq4DxOIMiKr12m8  \n",
       "3   spotify:track:0V3wPSX9ygBnCm8psDIegu  \n",
       "4   spotify:track:3nqQXoyQOWXiESFLlDF1hG  \n",
       "..                                   ...  \n",
       "95  spotify:track:1zsPaEkglFvxjAhrM8yhpr  \n",
       "96  spotify:track:54ELExv56KCAB4UP9cOCzC  \n",
       "97  spotify:track:7EAMXbLcL0qXmciM5SwMh2  \n",
       "98  spotify:track:6sZo5nJIsFWXefRCCexpx0  \n",
       "99  spotify:track:6Z1bV93BP95h4YjIavrQPf  \n",
       "\n",
       "[100 rows x 3 columns]"
      ]
     },
     "execution_count": 51,
     "metadata": {},
     "output_type": "execute_result"
    }
   ],
   "source": [
    "hot_100['uri'] = uris\n",
    "hot_100"
   ]
  }
 ],
 "metadata": {
  "kernelspec": {
   "display_name": "Python 3 (ipykernel)",
   "language": "python",
   "name": "python3"
  },
  "language_info": {
   "codemirror_mode": {
    "name": "ipython",
    "version": 3
   },
   "file_extension": ".py",
   "mimetype": "text/x-python",
   "name": "python",
   "nbconvert_exporter": "python",
   "pygments_lexer": "ipython3",
   "version": "3.9.13"
  }
 },
 "nbformat": 4,
 "nbformat_minor": 5
}
