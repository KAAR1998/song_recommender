{
 "cells": [
  {
   "cell_type": "markdown",
   "id": "0fdb127d-0800-4065-8f6d-98e0477c3361",
   "metadata": {},
   "source": [
    "#### Import required libraries"
   ]
  },
  {
   "cell_type": "code",
   "execution_count": 1,
   "id": "0f1c965a",
   "metadata": {},
   "outputs": [],
   "source": [
    "import spotipy\n",
    "import pandas as pd\n",
    "import json\n",
    "from spotipy.oauth2 import SpotifyClientCredentials\n",
    "from sklearn.cluster import KMeans\n",
    "from sklearn.metrics import silhouette_score\n",
    "from sklearn.preprocessing import StandardScaler\n",
    "#from scalers import *\n",
    "import pickle\n",
    "import random"
   ]
  },
  {
   "cell_type": "code",
   "execution_count": 2,
   "id": "70607af7",
   "metadata": {},
   "outputs": [],
   "source": [
    "client_id = \"f68226fa347346169cb5cdec05f72a8b\"\n",
    "client_secret =\"e082fbec5984468f946e9e056e9083ce\"\n",
    "client_credentials_manager = SpotifyClientCredentials(client_id=client_id, client_secret=client_secret)\n",
    "sp = spotipy.Spotify(client_credentials_manager=client_credentials_manager)"
   ]
  },
  {
   "cell_type": "markdown",
   "id": "49d11d11-8e24-46fd-84f2-14f3a5b7a8d9",
   "metadata": {},
   "source": [
    "#### Read csv into notebook"
   ]
  },
  {
   "cell_type": "code",
   "execution_count": 3,
   "id": "1600e537",
   "metadata": {},
   "outputs": [],
   "source": [
    "song_clusters_df = pd.read_csv(\"../Notebooks/Data/songs_with_clusters.csv\")"
   ]
  },
  {
   "cell_type": "code",
   "execution_count": 4,
   "id": "89c390b8",
   "metadata": {},
   "outputs": [
    {
     "data": {
      "text/html": [
       "<div>\n",
       "<style scoped>\n",
       "    .dataframe tbody tr th:only-of-type {\n",
       "        vertical-align: middle;\n",
       "    }\n",
       "\n",
       "    .dataframe tbody tr th {\n",
       "        vertical-align: top;\n",
       "    }\n",
       "\n",
       "    .dataframe thead th {\n",
       "        text-align: right;\n",
       "    }\n",
       "</style>\n",
       "<table border=\"1\" class=\"dataframe\">\n",
       "  <thead>\n",
       "    <tr style=\"text-align: right;\">\n",
       "      <th></th>\n",
       "      <th>danceability</th>\n",
       "      <th>energy</th>\n",
       "      <th>key</th>\n",
       "      <th>loudness</th>\n",
       "      <th>mode</th>\n",
       "      <th>speechiness</th>\n",
       "      <th>acousticness</th>\n",
       "      <th>instrumentalness</th>\n",
       "      <th>liveness</th>\n",
       "      <th>valence</th>\n",
       "      <th>...</th>\n",
       "      <th>id</th>\n",
       "      <th>uri</th>\n",
       "      <th>track_href</th>\n",
       "      <th>analysis_url</th>\n",
       "      <th>duration_ms</th>\n",
       "      <th>time_signature</th>\n",
       "      <th>title</th>\n",
       "      <th>artist</th>\n",
       "      <th>hot_100</th>\n",
       "      <th>cluster</th>\n",
       "    </tr>\n",
       "  </thead>\n",
       "  <tbody>\n",
       "    <tr>\n",
       "      <th>0</th>\n",
       "      <td>0.707</td>\n",
       "      <td>0.681</td>\n",
       "      <td>0</td>\n",
       "      <td>-4.325</td>\n",
       "      <td>1</td>\n",
       "      <td>0.0668</td>\n",
       "      <td>0.06320</td>\n",
       "      <td>0.000005</td>\n",
       "      <td>0.0322</td>\n",
       "      <td>0.646</td>\n",
       "      <td>...</td>\n",
       "      <td>0yLdNVWF3Srea0uzk55zFn</td>\n",
       "      <td>spotify:track:0yLdNVWF3Srea0uzk55zFn</td>\n",
       "      <td>https://api.spotify.com/v1/tracks/0yLdNVWF3Sre...</td>\n",
       "      <td>https://api.spotify.com/v1/audio-analysis/0yLd...</td>\n",
       "      <td>200455</td>\n",
       "      <td>4</td>\n",
       "      <td>flowers</td>\n",
       "      <td>miley cyrus</td>\n",
       "      <td>1</td>\n",
       "      <td>2</td>\n",
       "    </tr>\n",
       "    <tr>\n",
       "      <th>1</th>\n",
       "      <td>0.347</td>\n",
       "      <td>0.378</td>\n",
       "      <td>8</td>\n",
       "      <td>-9.960</td>\n",
       "      <td>1</td>\n",
       "      <td>0.0354</td>\n",
       "      <td>0.85700</td>\n",
       "      <td>0.000000</td>\n",
       "      <td>0.1180</td>\n",
       "      <td>0.610</td>\n",
       "      <td>...</td>\n",
       "      <td>5ReIs3aH4wfBjp93QOtWAl</td>\n",
       "      <td>spotify:track:5ReIs3aH4wfBjp93QOtWAl</td>\n",
       "      <td>https://api.spotify.com/v1/tracks/5ReIs3aH4wfB...</td>\n",
       "      <td>https://api.spotify.com/v1/audio-analysis/5ReI...</td>\n",
       "      <td>168609</td>\n",
       "      <td>4</td>\n",
       "      <td>kill bill</td>\n",
       "      <td>sza</td>\n",
       "      <td>1</td>\n",
       "      <td>1</td>\n",
       "    </tr>\n",
       "    <tr>\n",
       "      <th>2</th>\n",
       "      <td>0.517</td>\n",
       "      <td>0.675</td>\n",
       "      <td>6</td>\n",
       "      <td>-5.382</td>\n",
       "      <td>1</td>\n",
       "      <td>0.0357</td>\n",
       "      <td>0.45900</td>\n",
       "      <td>0.000000</td>\n",
       "      <td>0.1510</td>\n",
       "      <td>0.518</td>\n",
       "      <td>...</td>\n",
       "      <td>59uQI0PADDKeE6UZDTJEe8</td>\n",
       "      <td>spotify:track:59uQI0PADDKeE6UZDTJEe8</td>\n",
       "      <td>https://api.spotify.com/v1/tracks/59uQI0PADDKe...</td>\n",
       "      <td>https://api.spotify.com/v1/audio-analysis/59uQ...</td>\n",
       "      <td>163855</td>\n",
       "      <td>4</td>\n",
       "      <td>last night</td>\n",
       "      <td>morgan wallen</td>\n",
       "      <td>1</td>\n",
       "      <td>0</td>\n",
       "    </tr>\n",
       "    <tr>\n",
       "      <th>3</th>\n",
       "      <td>0.714</td>\n",
       "      <td>0.472</td>\n",
       "      <td>2</td>\n",
       "      <td>-7.375</td>\n",
       "      <td>1</td>\n",
       "      <td>0.0864</td>\n",
       "      <td>0.01300</td>\n",
       "      <td>0.000005</td>\n",
       "      <td>0.2660</td>\n",
       "      <td>0.238</td>\n",
       "      <td>...</td>\n",
       "      <td>3nqQXoyQOWXiESFLlDF1hG</td>\n",
       "      <td>spotify:track:3nqQXoyQOWXiESFLlDF1hG</td>\n",
       "      <td>https://api.spotify.com/v1/tracks/3nqQXoyQOWXi...</td>\n",
       "      <td>https://api.spotify.com/v1/audio-analysis/3nqQ...</td>\n",
       "      <td>156943</td>\n",
       "      <td>4</td>\n",
       "      <td>unholy</td>\n",
       "      <td>sam smith &amp; kim petras</td>\n",
       "      <td>1</td>\n",
       "      <td>7</td>\n",
       "    </tr>\n",
       "    <tr>\n",
       "      <th>4</th>\n",
       "      <td>0.728</td>\n",
       "      <td>0.293</td>\n",
       "      <td>1</td>\n",
       "      <td>-13.657</td>\n",
       "      <td>0</td>\n",
       "      <td>0.0562</td>\n",
       "      <td>0.47900</td>\n",
       "      <td>0.904000</td>\n",
       "      <td>0.1180</td>\n",
       "      <td>0.152</td>\n",
       "      <td>...</td>\n",
       "      <td>4CpujwKsq4DxOIMiKr12m8</td>\n",
       "      <td>spotify:track:4CpujwKsq4DxOIMiKr12m8</td>\n",
       "      <td>https://api.spotify.com/v1/tracks/4CpujwKsq4Dx...</td>\n",
       "      <td>https://api.spotify.com/v1/audio-analysis/4Cpu...</td>\n",
       "      <td>217026</td>\n",
       "      <td>4</td>\n",
       "      <td>creepin'</td>\n",
       "      <td>metro boomin, the weeknd &amp; 21 savage</td>\n",
       "      <td>1</td>\n",
       "      <td>3</td>\n",
       "    </tr>\n",
       "    <tr>\n",
       "      <th>...</th>\n",
       "      <td>...</td>\n",
       "      <td>...</td>\n",
       "      <td>...</td>\n",
       "      <td>...</td>\n",
       "      <td>...</td>\n",
       "      <td>...</td>\n",
       "      <td>...</td>\n",
       "      <td>...</td>\n",
       "      <td>...</td>\n",
       "      <td>...</td>\n",
       "      <td>...</td>\n",
       "      <td>...</td>\n",
       "      <td>...</td>\n",
       "      <td>...</td>\n",
       "      <td>...</td>\n",
       "      <td>...</td>\n",
       "      <td>...</td>\n",
       "      <td>...</td>\n",
       "      <td>...</td>\n",
       "      <td>...</td>\n",
       "      <td>...</td>\n",
       "    </tr>\n",
       "    <tr>\n",
       "      <th>198</th>\n",
       "      <td>0.727</td>\n",
       "      <td>0.496</td>\n",
       "      <td>10</td>\n",
       "      <td>-10.742</td>\n",
       "      <td>0</td>\n",
       "      <td>0.0433</td>\n",
       "      <td>0.12500</td>\n",
       "      <td>0.889000</td>\n",
       "      <td>0.1040</td>\n",
       "      <td>0.458</td>\n",
       "      <td>...</td>\n",
       "      <td>5Xum4tqWPwlTxTVLVeDQPA</td>\n",
       "      <td>spotify:track:5Xum4tqWPwlTxTVLVeDQPA</td>\n",
       "      <td>https://api.spotify.com/v1/tracks/5Xum4tqWPwlT...</td>\n",
       "      <td>https://api.spotify.com/v1/audio-analysis/5Xum...</td>\n",
       "      <td>334173</td>\n",
       "      <td>4</td>\n",
       "      <td>our love</td>\n",
       "      <td>caribou</td>\n",
       "      <td>0</td>\n",
       "      <td>5</td>\n",
       "    </tr>\n",
       "    <tr>\n",
       "      <th>199</th>\n",
       "      <td>0.857</td>\n",
       "      <td>0.831</td>\n",
       "      <td>2</td>\n",
       "      <td>-4.664</td>\n",
       "      <td>1</td>\n",
       "      <td>0.0995</td>\n",
       "      <td>0.00158</td>\n",
       "      <td>0.000000</td>\n",
       "      <td>0.1540</td>\n",
       "      <td>0.259</td>\n",
       "      <td>...</td>\n",
       "      <td>4VqLm4L1iAy8UwwsWrZLUA</td>\n",
       "      <td>spotify:track:4VqLm4L1iAy8UwwsWrZLUA</td>\n",
       "      <td>https://api.spotify.com/v1/tracks/4VqLm4L1iAy8...</td>\n",
       "      <td>https://api.spotify.com/v1/audio-analysis/4VqL...</td>\n",
       "      <td>134062</td>\n",
       "      <td>4</td>\n",
       "      <td>i ain't trippin off nothin</td>\n",
       "      <td>ezale</td>\n",
       "      <td>0</td>\n",
       "      <td>7</td>\n",
       "    </tr>\n",
       "    <tr>\n",
       "      <th>200</th>\n",
       "      <td>0.699</td>\n",
       "      <td>0.388</td>\n",
       "      <td>6</td>\n",
       "      <td>-10.722</td>\n",
       "      <td>1</td>\n",
       "      <td>0.0531</td>\n",
       "      <td>0.58800</td>\n",
       "      <td>0.000002</td>\n",
       "      <td>0.0658</td>\n",
       "      <td>0.566</td>\n",
       "      <td>...</td>\n",
       "      <td>0b5w1gamS9f239Sms9guAB</td>\n",
       "      <td>spotify:track:0b5w1gamS9f239Sms9guAB</td>\n",
       "      <td>https://api.spotify.com/v1/tracks/0b5w1gamS9f2...</td>\n",
       "      <td>https://api.spotify.com/v1/audio-analysis/0b5w...</td>\n",
       "      <td>274667</td>\n",
       "      <td>4</td>\n",
       "      <td>they don't know - original mix</td>\n",
       "      <td>disciples</td>\n",
       "      <td>0</td>\n",
       "      <td>1</td>\n",
       "    </tr>\n",
       "    <tr>\n",
       "      <th>201</th>\n",
       "      <td>0.596</td>\n",
       "      <td>0.639</td>\n",
       "      <td>0</td>\n",
       "      <td>-6.546</td>\n",
       "      <td>1</td>\n",
       "      <td>0.0300</td>\n",
       "      <td>0.78300</td>\n",
       "      <td>0.569000</td>\n",
       "      <td>0.3310</td>\n",
       "      <td>0.233</td>\n",
       "      <td>...</td>\n",
       "      <td>0jHZ5yXOZNKvtwPGSgL0gX</td>\n",
       "      <td>spotify:track:0jHZ5yXOZNKvtwPGSgL0gX</td>\n",
       "      <td>https://api.spotify.com/v1/tracks/0jHZ5yXOZNKv...</td>\n",
       "      <td>https://api.spotify.com/v1/audio-analysis/0jHZ...</td>\n",
       "      <td>196627</td>\n",
       "      <td>4</td>\n",
       "      <td>sabali</td>\n",
       "      <td>amadou &amp; mariam</td>\n",
       "      <td>0</td>\n",
       "      <td>1</td>\n",
       "    </tr>\n",
       "    <tr>\n",
       "      <th>202</th>\n",
       "      <td>0.776</td>\n",
       "      <td>0.470</td>\n",
       "      <td>4</td>\n",
       "      <td>-10.308</td>\n",
       "      <td>0</td>\n",
       "      <td>0.0318</td>\n",
       "      <td>0.41900</td>\n",
       "      <td>0.000000</td>\n",
       "      <td>0.1390</td>\n",
       "      <td>0.963</td>\n",
       "      <td>...</td>\n",
       "      <td>4RYwE31p4KflK1h7J7m1Yt</td>\n",
       "      <td>spotify:track:4RYwE31p4KflK1h7J7m1Yt</td>\n",
       "      <td>https://api.spotify.com/v1/tracks/4RYwE31p4Kfl...</td>\n",
       "      <td>https://api.spotify.com/v1/audio-analysis/4RYw...</td>\n",
       "      <td>164933</td>\n",
       "      <td>4</td>\n",
       "      <td>spooky</td>\n",
       "      <td>dusty springfield</td>\n",
       "      <td>0</td>\n",
       "      <td>2</td>\n",
       "    </tr>\n",
       "  </tbody>\n",
       "</table>\n",
       "<p>203 rows × 22 columns</p>\n",
       "</div>"
      ],
      "text/plain": [
       "     danceability  energy  key  loudness  mode  speechiness  acousticness  \\\n",
       "0           0.707   0.681    0    -4.325     1       0.0668       0.06320   \n",
       "1           0.347   0.378    8    -9.960     1       0.0354       0.85700   \n",
       "2           0.517   0.675    6    -5.382     1       0.0357       0.45900   \n",
       "3           0.714   0.472    2    -7.375     1       0.0864       0.01300   \n",
       "4           0.728   0.293    1   -13.657     0       0.0562       0.47900   \n",
       "..            ...     ...  ...       ...   ...          ...           ...   \n",
       "198         0.727   0.496   10   -10.742     0       0.0433       0.12500   \n",
       "199         0.857   0.831    2    -4.664     1       0.0995       0.00158   \n",
       "200         0.699   0.388    6   -10.722     1       0.0531       0.58800   \n",
       "201         0.596   0.639    0    -6.546     1       0.0300       0.78300   \n",
       "202         0.776   0.470    4   -10.308     0       0.0318       0.41900   \n",
       "\n",
       "     instrumentalness  liveness  valence  ...                      id  \\\n",
       "0            0.000005    0.0322    0.646  ...  0yLdNVWF3Srea0uzk55zFn   \n",
       "1            0.000000    0.1180    0.610  ...  5ReIs3aH4wfBjp93QOtWAl   \n",
       "2            0.000000    0.1510    0.518  ...  59uQI0PADDKeE6UZDTJEe8   \n",
       "3            0.000005    0.2660    0.238  ...  3nqQXoyQOWXiESFLlDF1hG   \n",
       "4            0.904000    0.1180    0.152  ...  4CpujwKsq4DxOIMiKr12m8   \n",
       "..                ...       ...      ...  ...                     ...   \n",
       "198          0.889000    0.1040    0.458  ...  5Xum4tqWPwlTxTVLVeDQPA   \n",
       "199          0.000000    0.1540    0.259  ...  4VqLm4L1iAy8UwwsWrZLUA   \n",
       "200          0.000002    0.0658    0.566  ...  0b5w1gamS9f239Sms9guAB   \n",
       "201          0.569000    0.3310    0.233  ...  0jHZ5yXOZNKvtwPGSgL0gX   \n",
       "202          0.000000    0.1390    0.963  ...  4RYwE31p4KflK1h7J7m1Yt   \n",
       "\n",
       "                                      uri  \\\n",
       "0    spotify:track:0yLdNVWF3Srea0uzk55zFn   \n",
       "1    spotify:track:5ReIs3aH4wfBjp93QOtWAl   \n",
       "2    spotify:track:59uQI0PADDKeE6UZDTJEe8   \n",
       "3    spotify:track:3nqQXoyQOWXiESFLlDF1hG   \n",
       "4    spotify:track:4CpujwKsq4DxOIMiKr12m8   \n",
       "..                                    ...   \n",
       "198  spotify:track:5Xum4tqWPwlTxTVLVeDQPA   \n",
       "199  spotify:track:4VqLm4L1iAy8UwwsWrZLUA   \n",
       "200  spotify:track:0b5w1gamS9f239Sms9guAB   \n",
       "201  spotify:track:0jHZ5yXOZNKvtwPGSgL0gX   \n",
       "202  spotify:track:4RYwE31p4KflK1h7J7m1Yt   \n",
       "\n",
       "                                            track_href  \\\n",
       "0    https://api.spotify.com/v1/tracks/0yLdNVWF3Sre...   \n",
       "1    https://api.spotify.com/v1/tracks/5ReIs3aH4wfB...   \n",
       "2    https://api.spotify.com/v1/tracks/59uQI0PADDKe...   \n",
       "3    https://api.spotify.com/v1/tracks/3nqQXoyQOWXi...   \n",
       "4    https://api.spotify.com/v1/tracks/4CpujwKsq4Dx...   \n",
       "..                                                 ...   \n",
       "198  https://api.spotify.com/v1/tracks/5Xum4tqWPwlT...   \n",
       "199  https://api.spotify.com/v1/tracks/4VqLm4L1iAy8...   \n",
       "200  https://api.spotify.com/v1/tracks/0b5w1gamS9f2...   \n",
       "201  https://api.spotify.com/v1/tracks/0jHZ5yXOZNKv...   \n",
       "202  https://api.spotify.com/v1/tracks/4RYwE31p4Kfl...   \n",
       "\n",
       "                                          analysis_url duration_ms  \\\n",
       "0    https://api.spotify.com/v1/audio-analysis/0yLd...      200455   \n",
       "1    https://api.spotify.com/v1/audio-analysis/5ReI...      168609   \n",
       "2    https://api.spotify.com/v1/audio-analysis/59uQ...      163855   \n",
       "3    https://api.spotify.com/v1/audio-analysis/3nqQ...      156943   \n",
       "4    https://api.spotify.com/v1/audio-analysis/4Cpu...      217026   \n",
       "..                                                 ...         ...   \n",
       "198  https://api.spotify.com/v1/audio-analysis/5Xum...      334173   \n",
       "199  https://api.spotify.com/v1/audio-analysis/4VqL...      134062   \n",
       "200  https://api.spotify.com/v1/audio-analysis/0b5w...      274667   \n",
       "201  https://api.spotify.com/v1/audio-analysis/0jHZ...      196627   \n",
       "202  https://api.spotify.com/v1/audio-analysis/4RYw...      164933   \n",
       "\n",
       "    time_signature                           title  \\\n",
       "0                4                         flowers   \n",
       "1                4                       kill bill   \n",
       "2                4                      last night   \n",
       "3                4                          unholy   \n",
       "4                4                        creepin'   \n",
       "..             ...                             ...   \n",
       "198              4                        our love   \n",
       "199              4      i ain't trippin off nothin   \n",
       "200              4  they don't know - original mix   \n",
       "201              4                          sabali   \n",
       "202              4                          spooky   \n",
       "\n",
       "                                   artist hot_100 cluster  \n",
       "0                             miley cyrus       1       2  \n",
       "1                                     sza       1       1  \n",
       "2                           morgan wallen       1       0  \n",
       "3                  sam smith & kim petras       1       7  \n",
       "4    metro boomin, the weeknd & 21 savage       1       3  \n",
       "..                                    ...     ...     ...  \n",
       "198                               caribou       0       5  \n",
       "199                                 ezale       0       7  \n",
       "200                             disciples       0       1  \n",
       "201                       amadou & mariam       0       1  \n",
       "202                     dusty springfield       0       2  \n",
       "\n",
       "[203 rows x 22 columns]"
      ]
     },
     "execution_count": 4,
     "metadata": {},
     "output_type": "execute_result"
    }
   ],
   "source": [
    "song_clusters_df.head(203)"
   ]
  },
  {
   "cell_type": "code",
   "execution_count": 5,
   "id": "3e9f7dce",
   "metadata": {},
   "outputs": [
    {
     "name": "stdout",
     "output_type": "stream",
     "text": [
      "<class 'pandas.core.frame.DataFrame'>\n",
      "RangeIndex: 2489 entries, 0 to 2488\n",
      "Data columns (total 22 columns):\n",
      " #   Column            Non-Null Count  Dtype  \n",
      "---  ------            --------------  -----  \n",
      " 0   danceability      2489 non-null   float64\n",
      " 1   energy            2489 non-null   float64\n",
      " 2   key               2489 non-null   int64  \n",
      " 3   loudness          2489 non-null   float64\n",
      " 4   mode              2489 non-null   int64  \n",
      " 5   speechiness       2489 non-null   float64\n",
      " 6   acousticness      2489 non-null   float64\n",
      " 7   instrumentalness  2489 non-null   float64\n",
      " 8   liveness          2489 non-null   float64\n",
      " 9   valence           2489 non-null   float64\n",
      " 10  tempo             2489 non-null   float64\n",
      " 11  type              2489 non-null   object \n",
      " 12  id                2489 non-null   object \n",
      " 13  uri               2489 non-null   object \n",
      " 14  track_href        2489 non-null   object \n",
      " 15  analysis_url      2489 non-null   object \n",
      " 16  duration_ms       2489 non-null   int64  \n",
      " 17  time_signature    2489 non-null   int64  \n",
      " 18  title             2489 non-null   object \n",
      " 19  artist            2489 non-null   object \n",
      " 20  hot_100           2489 non-null   int64  \n",
      " 21  cluster           2489 non-null   int64  \n",
      "dtypes: float64(9), int64(6), object(7)\n",
      "memory usage: 427.9+ KB\n"
     ]
    }
   ],
   "source": [
    "song_clusters_df.info()"
   ]
  },
  {
   "cell_type": "markdown",
   "id": "3ff2cf97-6e8c-4833-aca4-8714d9a4d265",
   "metadata": {},
   "source": [
    "#### Drop duplicates from previously merged dataframe"
   ]
  },
  {
   "cell_type": "code",
   "execution_count": 6,
   "id": "db6c278d",
   "metadata": {},
   "outputs": [],
   "source": [
    "song_clusters_df = song_clusters_df.drop_duplicates()"
   ]
  },
  {
   "cell_type": "markdown",
   "id": "c0689b24-5307-4ca1-a213-515151fc7191",
   "metadata": {},
   "source": [
    "#### Function to return song id"
   ]
  },
  {
   "cell_type": "code",
   "execution_count": 7,
   "id": "110e9dcf",
   "metadata": {},
   "outputs": [],
   "source": [
    "def search_song(title, artist, limit=1):\n",
    "    try:\n",
    "        result = sp.search(q=title + artist, limit=limit)\n",
    "        return result[\"tracks\"][\"items\"][0][\"id\"]\n",
    "    except:\n",
    "        return None"
   ]
  },
  {
   "cell_type": "code",
   "execution_count": 8,
   "id": "2c0027e6",
   "metadata": {},
   "outputs": [],
   "source": [
    "a = search_song(\"asdsadasd\", \"sdafsfdgf\")"
   ]
  },
  {
   "cell_type": "markdown",
   "id": "ab5abd56-0abb-4030-9233-23454ac0c2b4",
   "metadata": {},
   "source": [
    "#### Function that receives input of song title and artist from user"
   ]
  },
  {
   "cell_type": "code",
   "execution_count": 9,
   "id": "ce19e151",
   "metadata": {
    "scrolled": true
   },
   "outputs": [],
   "source": [
    "def read_song_and_artist():\n",
    "    title_s = input(\"Please Enter the song title: \").lower()\n",
    "    artist_s = input(\"Please Enter the artist title: \").lower()\n",
    "    \n",
    "    return artist_s, title_s"
   ]
  },
  {
   "cell_type": "code",
   "execution_count": 10,
   "id": "311c1463",
   "metadata": {},
   "outputs": [
    {
     "name": "stdin",
     "output_type": "stream",
     "text": [
      "Please Enter the song title:  mockingbird\n",
      "Please Enter the artist title:  eminem\n"
     ]
    }
   ],
   "source": [
    "artist_s, title_s = read_song_and_artist()\n",
    "input_s = search_song(title_s, artist_s, 1)"
   ]
  },
  {
   "cell_type": "code",
   "execution_count": 11,
   "id": "3c3bd122",
   "metadata": {},
   "outputs": [
    {
     "data": {
      "text/plain": [
       "[{'danceability': 0.637,\n",
       "  'energy': 0.678,\n",
       "  'key': 0,\n",
       "  'loudness': -3.798,\n",
       "  'mode': 1,\n",
       "  'speechiness': 0.266,\n",
       "  'acousticness': 0.209,\n",
       "  'instrumentalness': 0,\n",
       "  'liveness': 0.156,\n",
       "  'valence': 0.254,\n",
       "  'tempo': 84.039,\n",
       "  'type': 'audio_features',\n",
       "  'id': '561jH07mF1jHuk7KlaeF0s',\n",
       "  'uri': 'spotify:track:561jH07mF1jHuk7KlaeF0s',\n",
       "  'track_href': 'https://api.spotify.com/v1/tracks/561jH07mF1jHuk7KlaeF0s',\n",
       "  'analysis_url': 'https://api.spotify.com/v1/audio-analysis/561jH07mF1jHuk7KlaeF0s',\n",
       "  'duration_ms': 250760,\n",
       "  'time_signature': 4}]"
      ]
     },
     "execution_count": 11,
     "metadata": {},
     "output_type": "execute_result"
    }
   ],
   "source": [
    "my_dict = sp.audio_features(input_s)\n",
    "my_dict"
   ]
  },
  {
   "cell_type": "code",
   "execution_count": 12,
   "id": "e9879fe2",
   "metadata": {},
   "outputs": [],
   "source": [
    "input_df = pd.DataFrame(my_dict)"
   ]
  },
  {
   "cell_type": "code",
   "execution_count": 13,
   "id": "bdce4101",
   "metadata": {},
   "outputs": [
    {
     "data": {
      "text/html": [
       "<div>\n",
       "<style scoped>\n",
       "    .dataframe tbody tr th:only-of-type {\n",
       "        vertical-align: middle;\n",
       "    }\n",
       "\n",
       "    .dataframe tbody tr th {\n",
       "        vertical-align: top;\n",
       "    }\n",
       "\n",
       "    .dataframe thead th {\n",
       "        text-align: right;\n",
       "    }\n",
       "</style>\n",
       "<table border=\"1\" class=\"dataframe\">\n",
       "  <thead>\n",
       "    <tr style=\"text-align: right;\">\n",
       "      <th></th>\n",
       "      <th>danceability</th>\n",
       "      <th>energy</th>\n",
       "      <th>loudness</th>\n",
       "      <th>speechiness</th>\n",
       "      <th>acousticness</th>\n",
       "      <th>instrumentalness</th>\n",
       "      <th>liveness</th>\n",
       "      <th>valence</th>\n",
       "      <th>tempo</th>\n",
       "      <th>duration_ms</th>\n",
       "    </tr>\n",
       "  </thead>\n",
       "  <tbody>\n",
       "    <tr>\n",
       "      <th>0</th>\n",
       "      <td>0.637</td>\n",
       "      <td>0.678</td>\n",
       "      <td>-3.798</td>\n",
       "      <td>0.266</td>\n",
       "      <td>0.209</td>\n",
       "      <td>0</td>\n",
       "      <td>0.156</td>\n",
       "      <td>0.254</td>\n",
       "      <td>84.039</td>\n",
       "      <td>250760</td>\n",
       "    </tr>\n",
       "  </tbody>\n",
       "</table>\n",
       "</div>"
      ],
      "text/plain": [
       "   danceability  energy  loudness  speechiness  acousticness  \\\n",
       "0         0.637   0.678    -3.798        0.266         0.209   \n",
       "\n",
       "   instrumentalness  liveness  valence   tempo  duration_ms  \n",
       "0                 0     0.156    0.254  84.039       250760  "
      ]
     },
     "execution_count": 13,
     "metadata": {},
     "output_type": "execute_result"
    }
   ],
   "source": [
    "input_s = input_df.drop(['type','id','uri','track_href','analysis_url',\n",
    "                                    'time_signature','key','mode'],axis=1)\n",
    "input_s"
   ]
  },
  {
   "cell_type": "markdown",
   "id": "d51a03e3-2db2-4764-8a8e-d15cfd444128",
   "metadata": {},
   "source": [
    "#### Function to load files"
   ]
  },
  {
   "cell_type": "code",
   "execution_count": 14,
   "id": "e168fa55",
   "metadata": {},
   "outputs": [],
   "source": [
    "def load(filename = \"../scalers/scaler.pickle\"): \n",
    "    try: \n",
    "        with open(filename, \"rb\") as file: \n",
    "            return pickle.load(file) \n",
    "    except FileNotFoundError: \n",
    "        print(\"File \", filename, \" not found!\")\n",
    "        return None"
   ]
  },
  {
   "cell_type": "code",
   "execution_count": 15,
   "id": "bef2df46",
   "metadata": {},
   "outputs": [
    {
     "data": {
      "text/html": [
       "<style>#sk-container-id-1 {color: black;background-color: white;}#sk-container-id-1 pre{padding: 0;}#sk-container-id-1 div.sk-toggleable {background-color: white;}#sk-container-id-1 label.sk-toggleable__label {cursor: pointer;display: block;width: 100%;margin-bottom: 0;padding: 0.3em;box-sizing: border-box;text-align: center;}#sk-container-id-1 label.sk-toggleable__label-arrow:before {content: \"▸\";float: left;margin-right: 0.25em;color: #696969;}#sk-container-id-1 label.sk-toggleable__label-arrow:hover:before {color: black;}#sk-container-id-1 div.sk-estimator:hover label.sk-toggleable__label-arrow:before {color: black;}#sk-container-id-1 div.sk-toggleable__content {max-height: 0;max-width: 0;overflow: hidden;text-align: left;background-color: #f0f8ff;}#sk-container-id-1 div.sk-toggleable__content pre {margin: 0.2em;color: black;border-radius: 0.25em;background-color: #f0f8ff;}#sk-container-id-1 input.sk-toggleable__control:checked~div.sk-toggleable__content {max-height: 200px;max-width: 100%;overflow: auto;}#sk-container-id-1 input.sk-toggleable__control:checked~label.sk-toggleable__label-arrow:before {content: \"▾\";}#sk-container-id-1 div.sk-estimator input.sk-toggleable__control:checked~label.sk-toggleable__label {background-color: #d4ebff;}#sk-container-id-1 div.sk-label input.sk-toggleable__control:checked~label.sk-toggleable__label {background-color: #d4ebff;}#sk-container-id-1 input.sk-hidden--visually {border: 0;clip: rect(1px 1px 1px 1px);clip: rect(1px, 1px, 1px, 1px);height: 1px;margin: -1px;overflow: hidden;padding: 0;position: absolute;width: 1px;}#sk-container-id-1 div.sk-estimator {font-family: monospace;background-color: #f0f8ff;border: 1px dotted black;border-radius: 0.25em;box-sizing: border-box;margin-bottom: 0.5em;}#sk-container-id-1 div.sk-estimator:hover {background-color: #d4ebff;}#sk-container-id-1 div.sk-parallel-item::after {content: \"\";width: 100%;border-bottom: 1px solid gray;flex-grow: 1;}#sk-container-id-1 div.sk-label:hover label.sk-toggleable__label {background-color: #d4ebff;}#sk-container-id-1 div.sk-serial::before {content: \"\";position: absolute;border-left: 1px solid gray;box-sizing: border-box;top: 0;bottom: 0;left: 50%;z-index: 0;}#sk-container-id-1 div.sk-serial {display: flex;flex-direction: column;align-items: center;background-color: white;padding-right: 0.2em;padding-left: 0.2em;position: relative;}#sk-container-id-1 div.sk-item {position: relative;z-index: 1;}#sk-container-id-1 div.sk-parallel {display: flex;align-items: stretch;justify-content: center;background-color: white;position: relative;}#sk-container-id-1 div.sk-item::before, #sk-container-id-1 div.sk-parallel-item::before {content: \"\";position: absolute;border-left: 1px solid gray;box-sizing: border-box;top: 0;bottom: 0;left: 50%;z-index: -1;}#sk-container-id-1 div.sk-parallel-item {display: flex;flex-direction: column;z-index: 1;position: relative;background-color: white;}#sk-container-id-1 div.sk-parallel-item:first-child::after {align-self: flex-end;width: 50%;}#sk-container-id-1 div.sk-parallel-item:last-child::after {align-self: flex-start;width: 50%;}#sk-container-id-1 div.sk-parallel-item:only-child::after {width: 0;}#sk-container-id-1 div.sk-dashed-wrapped {border: 1px dashed gray;margin: 0 0.4em 0.5em 0.4em;box-sizing: border-box;padding-bottom: 0.4em;background-color: white;}#sk-container-id-1 div.sk-label label {font-family: monospace;font-weight: bold;display: inline-block;line-height: 1.2em;}#sk-container-id-1 div.sk-label-container {text-align: center;}#sk-container-id-1 div.sk-container {/* jupyter's `normalize.less` sets `[hidden] { display: none; }` but bootstrap.min.css set `[hidden] { display: none !important; }` so we also need the `!important` here to be able to override the default hidden behavior on the sphinx rendered scikit-learn.org. See: https://github.com/scikit-learn/scikit-learn/issues/21755 */display: inline-block !important;position: relative;}#sk-container-id-1 div.sk-text-repr-fallback {display: none;}</style><div id=\"sk-container-id-1\" class=\"sk-top-container\"><div class=\"sk-text-repr-fallback\"><pre>StandardScaler()</pre><b>In a Jupyter environment, please rerun this cell to show the HTML representation or trust the notebook. <br />On GitHub, the HTML representation is unable to render, please try loading this page with nbviewer.org.</b></div><div class=\"sk-container\" hidden><div class=\"sk-item\"><div class=\"sk-estimator sk-toggleable\"><input class=\"sk-toggleable__control sk-hidden--visually\" id=\"sk-estimator-id-1\" type=\"checkbox\" checked><label for=\"sk-estimator-id-1\" class=\"sk-toggleable__label sk-toggleable__label-arrow\">StandardScaler</label><div class=\"sk-toggleable__content\"><pre>StandardScaler()</pre></div></div></div></div></div>"
      ],
      "text/plain": [
       "StandardScaler()"
      ]
     },
     "execution_count": 15,
     "metadata": {},
     "output_type": "execute_result"
    }
   ],
   "source": [
    "scaler = load(\"../Notebooks/Scaler/scaler.pickle\")\n",
    "scaler"
   ]
  },
  {
   "cell_type": "code",
   "execution_count": 16,
   "id": "10c2b945",
   "metadata": {},
   "outputs": [],
   "source": [
    "best_model = load(\"../Notebooks/inertia/inertia8.pickle\")"
   ]
  },
  {
   "cell_type": "code",
   "execution_count": 17,
   "id": "2d62d26e",
   "metadata": {},
   "outputs": [],
   "source": [
    "song_scaled = scaler.transform(input_s)"
   ]
  },
  {
   "cell_type": "code",
   "execution_count": 18,
   "id": "ab65dc86",
   "metadata": {},
   "outputs": [
    {
     "name": "stderr",
     "output_type": "stream",
     "text": [
      "/Users/aloaskari/opt/anaconda3/lib/python3.9/site-packages/sklearn/base.py:420: UserWarning: X does not have valid feature names, but KMeans was fitted with feature names\n",
      "  warnings.warn(\n"
     ]
    }
   ],
   "source": [
    "song_c = best_model.predict(song_scaled)"
   ]
  },
  {
   "cell_type": "code",
   "execution_count": 19,
   "id": "1bb58bf8",
   "metadata": {},
   "outputs": [
    {
     "data": {
      "text/plain": [
       "array([6], dtype=int32)"
      ]
     },
     "execution_count": 19,
     "metadata": {},
     "output_type": "execute_result"
    }
   ],
   "source": [
    "song_c"
   ]
  },
  {
   "cell_type": "code",
   "execution_count": 20,
   "id": "379ede61",
   "metadata": {},
   "outputs": [],
   "source": [
    "cluster_n = song_clusters_df[song_clusters_df['cluster'] == song_c[0]] \n",
    "recommend = (cluster_n.iloc[:,18:20]).sample(5)"
   ]
  },
  {
   "cell_type": "code",
   "execution_count": 21,
   "id": "2a8bf054",
   "metadata": {
    "scrolled": true
   },
   "outputs": [
    {
     "data": {
      "text/html": [
       "<div>\n",
       "<style scoped>\n",
       "    .dataframe tbody tr th:only-of-type {\n",
       "        vertical-align: middle;\n",
       "    }\n",
       "\n",
       "    .dataframe tbody tr th {\n",
       "        vertical-align: top;\n",
       "    }\n",
       "\n",
       "    .dataframe thead th {\n",
       "        text-align: right;\n",
       "    }\n",
       "</style>\n",
       "<table border=\"1\" class=\"dataframe\">\n",
       "  <thead>\n",
       "    <tr style=\"text-align: right;\">\n",
       "      <th></th>\n",
       "      <th>title</th>\n",
       "      <th>artist</th>\n",
       "    </tr>\n",
       "  </thead>\n",
       "  <tbody>\n",
       "    <tr>\n",
       "      <th>156</th>\n",
       "      <td>check</td>\n",
       "      <td>young thug</td>\n",
       "    </tr>\n",
       "    <tr>\n",
       "      <th>1423</th>\n",
       "      <td>deja vu</td>\n",
       "      <td>prince royce</td>\n",
       "    </tr>\n",
       "    <tr>\n",
       "      <th>1203</th>\n",
       "      <td>let me try</td>\n",
       "      <td>kaleidoscope</td>\n",
       "    </tr>\n",
       "    <tr>\n",
       "      <th>1310</th>\n",
       "      <td>3 wheel-ups (feat. wiley &amp; giggs)</td>\n",
       "      <td>kano</td>\n",
       "    </tr>\n",
       "    <tr>\n",
       "      <th>1035</th>\n",
       "      <td>0 to 100 / the catch up</td>\n",
       "      <td>drake</td>\n",
       "    </tr>\n",
       "  </tbody>\n",
       "</table>\n",
       "</div>"
      ],
      "text/plain": [
       "                                  title        artist\n",
       "156                               check    young thug\n",
       "1423                            deja vu  prince royce\n",
       "1203                         let me try  kaleidoscope\n",
       "1310  3 wheel-ups (feat. wiley & giggs)          kano\n",
       "1035            0 to 100 / the catch up         drake"
      ]
     },
     "execution_count": 21,
     "metadata": {},
     "output_type": "execute_result"
    }
   ],
   "source": [
    "recommend"
   ]
  },
  {
   "cell_type": "markdown",
   "id": "6d97a5ae-375d-4a81-a4ea-27cda469393e",
   "metadata": {},
   "source": [
    "#### Final Loop "
   ]
  },
  {
   "cell_type": "code",
   "execution_count": 26,
   "id": "e601ea74",
   "metadata": {
    "scrolled": true
   },
   "outputs": [
    {
     "name": "stdin",
     "output_type": "stream",
     "text": [
      "Please Enter the song title:  shutdown\n",
      "Please Enter the artist title:  skepta\n"
     ]
    },
    {
     "name": "stdout",
     "output_type": "stream",
     "text": [
      "! Unable to get song id\n"
     ]
    },
    {
     "name": "stdin",
     "output_type": "stream",
     "text": [
      "Please Enter the song title:  imma ride\n",
      "Please Enter the artist title:  young thug\n"
     ]
    },
    {
     "name": "stdout",
     "output_type": "stream",
     "text": [
      "! Unable to get song id\n"
     ]
    },
    {
     "ename": "KeyboardInterrupt",
     "evalue": "Interrupted by user",
     "output_type": "error",
     "traceback": [
      "\u001b[0;31m---------------------------------------------------------------------------\u001b[0m",
      "\u001b[0;31mKeyboardInterrupt\u001b[0m                         Traceback (most recent call last)",
      "Cell \u001b[0;32mIn[26], line 13\u001b[0m\n\u001b[1;32m      7\u001b[0m songs  \u001b[38;5;241m=\u001b[39m song_clusters_df\n\u001b[1;32m     10\u001b[0m \u001b[38;5;28;01mwhile\u001b[39;00m \u001b[38;5;129;01mnot\u001b[39;00m done:\n\u001b[1;32m     11\u001b[0m     \n\u001b[1;32m     12\u001b[0m     \u001b[38;5;66;03m#Let the user input a song and artist using the function\u001b[39;00m\n\u001b[0;32m---> 13\u001b[0m     title,artist \u001b[38;5;241m=\u001b[39m \u001b[43mread_song_and_artist\u001b[49m\u001b[43m(\u001b[49m\u001b[43m)\u001b[49m\n\u001b[1;32m     15\u001b[0m     \u001b[38;5;66;03m#Get the id of the song input\u001b[39;00m\n\u001b[1;32m     16\u001b[0m     \u001b[38;5;28mid\u001b[39m \u001b[38;5;241m=\u001b[39m search_song(title, artist)\n",
      "Cell \u001b[0;32mIn[9], line 2\u001b[0m, in \u001b[0;36mread_song_and_artist\u001b[0;34m()\u001b[0m\n\u001b[1;32m      1\u001b[0m \u001b[38;5;28;01mdef\u001b[39;00m \u001b[38;5;21mread_song_and_artist\u001b[39m():\n\u001b[0;32m----> 2\u001b[0m     title_s \u001b[38;5;241m=\u001b[39m \u001b[38;5;28;43minput\u001b[39;49m\u001b[43m(\u001b[49m\u001b[38;5;124;43m\"\u001b[39;49m\u001b[38;5;124;43mPlease Enter the song title: \u001b[39;49m\u001b[38;5;124;43m\"\u001b[39;49m\u001b[43m)\u001b[49m\u001b[38;5;241m.\u001b[39mlower()\n\u001b[1;32m      3\u001b[0m     artist_s \u001b[38;5;241m=\u001b[39m \u001b[38;5;28minput\u001b[39m(\u001b[38;5;124m\"\u001b[39m\u001b[38;5;124mPlease Enter the artist title: \u001b[39m\u001b[38;5;124m\"\u001b[39m)\u001b[38;5;241m.\u001b[39mlower()\n\u001b[1;32m      5\u001b[0m     \u001b[38;5;28;01mreturn\u001b[39;00m artist_s, title_s\n",
      "File \u001b[0;32m~/opt/anaconda3/lib/python3.9/site-packages/ipykernel/kernelbase.py:1182\u001b[0m, in \u001b[0;36mKernel.raw_input\u001b[0;34m(self, prompt)\u001b[0m\n\u001b[1;32m   1180\u001b[0m     msg \u001b[38;5;241m=\u001b[39m \u001b[38;5;124m\"\u001b[39m\u001b[38;5;124mraw_input was called, but this frontend does not support input requests.\u001b[39m\u001b[38;5;124m\"\u001b[39m\n\u001b[1;32m   1181\u001b[0m     \u001b[38;5;28;01mraise\u001b[39;00m StdinNotImplementedError(msg)\n\u001b[0;32m-> 1182\u001b[0m \u001b[38;5;28;01mreturn\u001b[39;00m \u001b[38;5;28;43mself\u001b[39;49m\u001b[38;5;241;43m.\u001b[39;49m\u001b[43m_input_request\u001b[49m\u001b[43m(\u001b[49m\n\u001b[1;32m   1183\u001b[0m \u001b[43m    \u001b[49m\u001b[38;5;28;43mstr\u001b[39;49m\u001b[43m(\u001b[49m\u001b[43mprompt\u001b[49m\u001b[43m)\u001b[49m\u001b[43m,\u001b[49m\n\u001b[1;32m   1184\u001b[0m \u001b[43m    \u001b[49m\u001b[38;5;28;43mself\u001b[39;49m\u001b[38;5;241;43m.\u001b[39;49m\u001b[43m_parent_ident\u001b[49m\u001b[43m[\u001b[49m\u001b[38;5;124;43m\"\u001b[39;49m\u001b[38;5;124;43mshell\u001b[39;49m\u001b[38;5;124;43m\"\u001b[39;49m\u001b[43m]\u001b[49m\u001b[43m,\u001b[49m\n\u001b[1;32m   1185\u001b[0m \u001b[43m    \u001b[49m\u001b[38;5;28;43mself\u001b[39;49m\u001b[38;5;241;43m.\u001b[39;49m\u001b[43mget_parent\u001b[49m\u001b[43m(\u001b[49m\u001b[38;5;124;43m\"\u001b[39;49m\u001b[38;5;124;43mshell\u001b[39;49m\u001b[38;5;124;43m\"\u001b[39;49m\u001b[43m)\u001b[49m\u001b[43m,\u001b[49m\n\u001b[1;32m   1186\u001b[0m \u001b[43m    \u001b[49m\u001b[43mpassword\u001b[49m\u001b[38;5;241;43m=\u001b[39;49m\u001b[38;5;28;43;01mFalse\u001b[39;49;00m\u001b[43m,\u001b[49m\n\u001b[1;32m   1187\u001b[0m \u001b[43m\u001b[49m\u001b[43m)\u001b[49m\n",
      "File \u001b[0;32m~/opt/anaconda3/lib/python3.9/site-packages/ipykernel/kernelbase.py:1225\u001b[0m, in \u001b[0;36mKernel._input_request\u001b[0;34m(self, prompt, ident, parent, password)\u001b[0m\n\u001b[1;32m   1222\u001b[0m \u001b[38;5;28;01mexcept\u001b[39;00m \u001b[38;5;167;01mKeyboardInterrupt\u001b[39;00m:\n\u001b[1;32m   1223\u001b[0m     \u001b[38;5;66;03m# re-raise KeyboardInterrupt, to truncate traceback\u001b[39;00m\n\u001b[1;32m   1224\u001b[0m     msg \u001b[38;5;241m=\u001b[39m \u001b[38;5;124m\"\u001b[39m\u001b[38;5;124mInterrupted by user\u001b[39m\u001b[38;5;124m\"\u001b[39m\n\u001b[0;32m-> 1225\u001b[0m     \u001b[38;5;28;01mraise\u001b[39;00m \u001b[38;5;167;01mKeyboardInterrupt\u001b[39;00m(msg) \u001b[38;5;28;01mfrom\u001b[39;00m \u001b[38;5;28mNone\u001b[39m\n\u001b[1;32m   1226\u001b[0m \u001b[38;5;28;01mexcept\u001b[39;00m \u001b[38;5;167;01mException\u001b[39;00m:\n\u001b[1;32m   1227\u001b[0m     \u001b[38;5;28mself\u001b[39m\u001b[38;5;241m.\u001b[39mlog\u001b[38;5;241m.\u001b[39mwarning(\u001b[38;5;124m\"\u001b[39m\u001b[38;5;124mInvalid Message:\u001b[39m\u001b[38;5;124m\"\u001b[39m, exc_info\u001b[38;5;241m=\u001b[39m\u001b[38;5;28;01mTrue\u001b[39;00m)\n",
      "\u001b[0;31mKeyboardInterrupt\u001b[0m: Interrupted by user"
     ]
    }
   ],
   "source": [
    "done = False\n",
    "\n",
    "#Load the scaler, model and dataframe to be used\n",
    "\n",
    "scaler = load(\"../Notebooks/Scaler/scaler.pickle\")\n",
    "model  = load(\"../Notebooks/inertia/inertia8.pickle\")\n",
    "songs  = song_clusters_df\n",
    "\n",
    "\n",
    "while not done:\n",
    "    \n",
    "    #Let the user input a song and artist using the function\n",
    "    title,artist = read_song_and_artist()\n",
    "    \n",
    "    #Get the id of the song input\n",
    "    id = search_song(title, artist)\n",
    "    if not id:\n",
    "        print(\"! Unable to get song id\")\n",
    "        continue\n",
    "        \n",
    "    #Get the audio features of the song input\n",
    "    af = sp.audio_features(id)\n",
    "    if not af:\n",
    "        print(\"! Unable to get audio features\")\n",
    "        continue #Restarts the while loop if there are no song features\n",
    "    \n",
    "    #Use the model to predict the cluster of the new song\n",
    "    af_scaled_df = pd.DataFrame(af)\n",
    "    af_scaled_df.drop(['type','id','uri','track_href','analysis_url',\n",
    "                                    'time_signature','key','mode'], axis=1, inplace=True)\n",
    "    af_scaled = scaler.transform(af_scaled_df)\n",
    "    af_scaled_df = pd.DataFrame(af_scaled, columns=af_scaled_df.columns)\n",
    "    \n",
    "    cluster = model.predict(af_scaled_df)[0]\n",
    "    \n",
    "    #Check if the song is in the songs file and if it is a hot_100 song then recommend 5 hot_100 songs in the same cluster. \n",
    "    if not songs[(songs[\"id\"] == id) & (songs[\"hot_100\"] == 1)].empty:\n",
    "        recommended = songs[(songs[\"hot_100\"] == 1) & (songs[\"cluster\"] == cluster)].sample(5)\n",
    "    #If not recommend 5 songs from the not_100 list and the same cluster.\n",
    "    else:\n",
    "        recommended = songs[(songs[\"hot_100\"] == 0) & (songs[\"cluster\"] == cluster)].sample(5)\n",
    "    \n",
    "    #Return the recommended artists and song titles\n",
    "    artist = recommended[\"artist\"].values[0:5]\n",
    "    title  = recommended[\"title\"].values[0:5]\n",
    "    print(\"Try these songs:\")\n",
    "    for i in range(5):\n",
    "        print(\" {} - {}\".format(artist[i], title[i]))\n",
    "    \n",
    "    #Option to exit loop if user doesn't want anymore recommendations. \n",
    "    quit = input(\"Wanna quit? (y|n) \")\n",
    "    if quit == \"y\":\n",
    "        done = True\n",
    "        print(\"Good bye\")"
   ]
  }
 ],
 "metadata": {
  "kernelspec": {
   "display_name": "Python 3 (ipykernel)",
   "language": "python",
   "name": "python3"
  },
  "language_info": {
   "codemirror_mode": {
    "name": "ipython",
    "version": 3
   },
   "file_extension": ".py",
   "mimetype": "text/x-python",
   "name": "python",
   "nbconvert_exporter": "python",
   "pygments_lexer": "ipython3",
   "version": "3.9.15"
  }
 },
 "nbformat": 4,
 "nbformat_minor": 5
}
